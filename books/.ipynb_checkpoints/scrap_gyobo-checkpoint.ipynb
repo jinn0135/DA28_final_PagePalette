{
 "cells": [
  {
   "cell_type": "code",
   "execution_count": 1,
   "id": "5189b8b9",
   "metadata": {},
   "outputs": [],
   "source": [
    "import requests\n",
    "from bs4 import BeautifulSoup\n",
    "import selenium\n",
    "from selenium import webdriver\n",
    "from selenium.webdriver.common.keys import Keys\n",
    "# elem.send_keys(Keys.ENTER)\n",
    "from selenium.webdriver.common.by import By\n",
    "from selenium.webdriver.support.ui import WebDriverWait\n",
    "from selenium.webdriver.support import expected_conditions as EC\n",
    "from selenium.webdriver import ActionChains\n",
    "import re\n",
    "import time\n",
    "from datetime import datetime\n",
    "import pickle\n",
    "\n",
    "import pymysql \n",
    "import pandas as pd \n",
    "import numpy as np\n",
    "from tqdm import tqdm\n",
    "\n",
    "# # save data\n",
    "# with open('urls.pickle','wb') as fw:\n",
    "#     pickle.dump(myset.urls, fw)\n",
    "\n",
    "# # load data\n",
    "# with open('urls.pickle', 'rb') as fr:\n",
    "#     urls = pickle.load(fr)"
   ]
  },
  {
   "cell_type": "code",
   "execution_count": 2,
   "id": "85bb9aa8",
   "metadata": {},
   "outputs": [],
   "source": [
    "class createDB():\n",
    "    def __init__(self, genres={'소설':'01', '시에세이':'03', '인문':'05', '경제경영':'13', \n",
    "                                '자기계발':'15', '정치사회':'17', '역사문화':'19', \n",
    "                                '예술대중문화':'23', '과학':'29' }):\n",
    "        self.genres = genres\n",
    "        self.urls, self.dfs = {}, {}\n",
    "        \n",
    "    def open_driver(self, url, scroll=False):\n",
    "        user_agent = 'user-agent=Mozilla/5.0 (Windows NT 10.0; Win64; x64) AppleWebKit/537.36 (KHTML, like Gecko) Chrome/109.0.0.0 Safari/537.36'\n",
    "        options = webdriver.ChromeOptions()\n",
    "        options.add_argument(user_agent)\n",
    "        options.add_argument('headless') # 페이지 안 열기 \n",
    "        options.add_argument('window-size=1920x1080') # 사이즈 지정\n",
    "        options.add_argument(\"disable-gpu\") # 안 보이게\n",
    "        self.driver = webdriver.Chrome(options=options)\n",
    "        self.driver.implicitly_wait(1)\n",
    "        self.driver.get(url)\n",
    "        time.sleep(0.5)\n",
    "        \n",
    "        if scroll:\n",
    "            prev_height = self.driver.execute_script('return document.body.scrollHeight')\n",
    "            while True:\n",
    "                self.driver.execute_script('window.scrollTo(0, document.body.scrollHeight)')\n",
    "                time.sleep(1)\n",
    "                curr_height = self.driver.execute_script('return document.body.scrollHeight')\n",
    "                if prev_height == curr_height: break\n",
    "                prev_height = curr_height\n",
    "        \n",
    "    def save_urls(self, genre):\n",
    "        self.urls[genre] = {}\n",
    "        tqdm_pages = tqdm(range(20,0,-1))\n",
    "        for page in tqdm_pages: # 한 페이지 당 50권, 20페이지 반복(1000위까지)\n",
    "            url = 'https://product.kyobobook.co.kr/category/KOR/{}#?page={}&type=best&per=50'.format(self.genres[genre], page)\n",
    "            self.open_driver(url)\n",
    "            best = self.driver.find_element_by_css_selector('#homeTabBest')\n",
    "            elems = best.find_elements_by_class_name('prod_info_box')\n",
    "            for i, elem in enumerate(elems):\n",
    "                print('page-i:', page, i)\n",
    "                try:\n",
    "                    title = elem.find_element_by_css_selector('.prod_name').text\n",
    "                    rank = elem.find_element_by_class_name('text').text\n",
    "                    author = elem.find_element_by_css_selector('.prod_author > a').text\n",
    "                    temp_url = elem.find_element_by_class_name('prod_info')\n",
    "                    url = temp_url.get_attribute('href')\n",
    "                    temp_rate = elem.find_element_by_class_name('review_klover_box')\n",
    "                    rate = temp_rate.find_element(By.TAG_NAME, 'span').text\n",
    "                    temp_count = elem.find_element_by_css_selector('.review_desc').text\n",
    "                    count = re.sub(r'[^0-9]', '', temp_count)\n",
    "                    \n",
    "                    self.urls[genre][title] = {}\n",
    "                    self.urls[genre][title]['url'] = url\n",
    "                    self.urls[genre][title]['rank'] = int(rank)\n",
    "                    self.urls[genre][title]['author'] = author\n",
    "                    self.urls[genre][title]['rate'] = float(rate)\n",
    "                    self.urls[genre][title]['count'] = int(count)\n",
    "                except: print('pass')\n",
    "                    \n",
    "            tqdm_pages.set_description(genre+' '+str(page)+' urls')\n",
    "        tqdm_pages.close()\n",
    "\n",
    "    def connect_mysql(self, connect=True):\n",
    "        if connect:\n",
    "            self.db = pymysql.connect(host='localhost', port=3306, user='root', passwd='1234', db='mywork', \n",
    "                                      charset='utf8', cursorclass=pymysql.cursors.DictCursor)\n",
    "            self.cursor = self.db.cursor()\n",
    "        else:\n",
    "            self.db.commit()\n",
    "            self.db.close\n",
    "            \n",
    "    def create_tbl(self, genre):\n",
    "        self.connect_mysql()\n",
    "        sql = \"\"\"CREATE TABLE IF NOT EXISTS gyobo_{}(\n",
    "                title VARCHAR(100), author VARCHAR(100),\n",
    "                genre_1 VARCHAR(200), genre_2 VARCHAR(300), \n",
    "                brank SMALLINT, rate DOUBLE, count SMALLINT, isbn BIGINT\n",
    "                );\"\"\".format(genre)\n",
    "        self.cursor.execute(sql)\n",
    "        self.connect_mysql(False)\n",
    "    \n",
    "    def fill_tbl(self, genre):\n",
    "        self.connect_mysql()\n",
    "        tqdm_book = tqdm(self.urls[genre].items())\n",
    "        for book_title, book_info in tqdm_book:\n",
    "            try: self.open_driver(book_info['url'], scroll=True)\n",
    "            except: continue\n",
    "                \n",
    "            title = book_title\n",
    "#             title = self.driver.find_element_by_class_name('prod_title').text\n",
    "            author, rank = book_info['author'], book_info['rank']\n",
    "            rate = book_info['rate']\n",
    "            count = book_info['count'] if book_info['count'] is not None else 'Null'\n",
    "            \n",
    "            elems = self.driver.find_elements_by_class_name('category_list_item')\n",
    "            genre_1, genre_2 = '', ''\n",
    "            for elem in elems:\n",
    "                gs = elem.find_elements_by_class_name('intro_category_link')\n",
    "                for i, g in enumerate(gs):\n",
    "                    if i==1: genre_1 += g.text+', '\n",
    "                    elif i==2 or i==3: genre_2 += g.text+', '\n",
    "            if len(genre_1)==0: continue\n",
    "                        \n",
    "            isbn_box = self.driver.find_element_by_class_name('product_detail_area.basic_info')\n",
    "            isbn = int(isbn_box.find_element(By.TAG_NAME, 'td').text)\n",
    "            \n",
    "            sql = '''INSERT INTO gyobo_{0} VALUES(\n",
    "            \"{1}\", \"{2}\", \"{3}\", \"{4}\", {5}, {6}, {7}, {8});\n",
    "            '''.format(genre, title, author, genre_1, genre_2, rank, rate, count, isbn)\n",
    "            self.cursor.execute(sql)\n",
    "            self.db.commit()\n",
    "            tqdm_book.set_description(genre+' insert data')\n",
    "        self.connect_mysql(False)\n",
    "        tqdm_book.close()\n",
    "        \n",
    "    def get_df(self, genre):\n",
    "        self.connect_mysql(True)\n",
    "        sql = 'SELECT * FROM gyobo_{}'.format(genre)\n",
    "        self.cursor.execute(sql)\n",
    "        self.dfs[genre] = pd.DataFrame(self.cursor.fetchall())\n",
    "        self.dfs[genre].to_csv('gyobo_{}.csv'.format(genre), index=False)\n",
    "        self.connect_mysql(False)\n",
    "        print('save gyobo_'+genre+'.csv')\n",
    "    \n",
    "    def auto(self, genre, opt=True):\n",
    "        if opt: self.save_urls(genre)\n",
    "        self.create_tbl(genre)\n",
    "        self.fill_tbl(genre)\n",
    "        self.get_df(genre)"
   ]
  },
  {
   "cell_type": "code",
   "execution_count": 3,
   "id": "e3b99904",
   "metadata": {
    "scrolled": true
   },
   "outputs": [
    {
     "name": "stdout",
     "output_type": "stream",
     "text": [
      "{'소설': '01', '시에세이': '03', '인문': '05', '경제경영': '13', '자기계발': '15', '정치사회': '17', '역사문화': '19', '예술대중문화': '23', '과학': '29'}\n"
     ]
    }
   ],
   "source": [
    "myset = createDB()\n",
    "print(myset.genres)\n",
    "# for genre in myset.genres.keys():\n",
    "#     myset.auto(genre)"
   ]
  },
  {
   "cell_type": "code",
   "execution_count": 4,
   "id": "01893746",
   "metadata": {},
   "outputs": [
    {
     "name": "stdout",
     "output_type": "stream",
     "text": [
      "소설 863\n",
      "시에세이 945\n",
      "인문 890\n",
      "경제경영 990\n",
      "자기계발 943\n",
      "정치사회 983\n",
      "역사문화 998\n",
      "예술대중문화 990\n",
      "과학 978\n"
     ]
    }
   ],
   "source": [
    "with open('urls_gyobo.pickle', 'rb') as fr:\n",
    "    urls = pickle.load(fr)\n",
    "\n",
    "for genre in urls.keys():\n",
    "    print(genre, len(urls[genre].keys()))"
   ]
  },
  {
   "cell_type": "code",
   "execution_count": null,
   "id": "b25feea4",
   "metadata": {
    "scrolled": true
   },
   "outputs": [
    {
     "name": "stderr",
     "output_type": "stream",
     "text": [
      "소설 insert data: 100%|████████████████████████████████████████████████████████████| 863/863 [1:55:47<00:00,  8.05s/it]s]\n"
     ]
    },
    {
     "name": "stdout",
     "output_type": "stream",
     "text": [
      "save gyobo_소설.csv\n"
     ]
    },
    {
     "name": "stderr",
     "output_type": "stream",
     "text": [
      "시에세이 insert data: 100%|████████████████████████████████████████████████████████| 945/945 [2:08:18<00:00,  8.15s/it]t/s]\n"
     ]
    },
    {
     "name": "stdout",
     "output_type": "stream",
     "text": [
      "save gyobo_시에세이.csv\n"
     ]
    },
    {
     "name": "stderr",
     "output_type": "stream",
     "text": [
      "인문 insert data: 100%|████████████████████████████████████████████████████████████| 890/890 [2:03:03<00:00,  8.30s/it]s]\n"
     ]
    },
    {
     "name": "stdout",
     "output_type": "stream",
     "text": [
      "save gyobo_인문.csv\n"
     ]
    },
    {
     "name": "stderr",
     "output_type": "stream",
     "text": [
      "경제경영 insert data: 100%|████████████████████████████████████████████████████████| 990/990 [2:08:47<00:00,  7.81s/it]t/s]\n"
     ]
    },
    {
     "name": "stdout",
     "output_type": "stream",
     "text": [
      "save gyobo_경제경영.csv\n"
     ]
    },
    {
     "name": "stderr",
     "output_type": "stream",
     "text": [
      "자기계발 insert data: 100%|████████████████████████████████████████████████████████| 943/943 [2:03:38<00:00,  7.87s/it]t/s]\n"
     ]
    },
    {
     "name": "stdout",
     "output_type": "stream",
     "text": [
      "save gyobo_자기계발.csv\n"
     ]
    },
    {
     "name": "stderr",
     "output_type": "stream",
     "text": [
      "정치사회 insert data: 100%|████████████████████████████████████████████████████████| 983/983 [2:04:38<00:00,  7.61s/it]t/s]\n"
     ]
    },
    {
     "name": "stdout",
     "output_type": "stream",
     "text": [
      "save gyobo_정치사회.csv\n"
     ]
    },
    {
     "name": "stderr",
     "output_type": "stream",
     "text": [
      "역사문화 insert data:  42%|████████████████████████▎                                 | 419/998 [52:38<59:22,  6.15s/it]t/s]"
     ]
    }
   ],
   "source": [
    "myset.urls = urls\n",
    "for genre in urls.keys():\n",
    "    myset.auto(genre, opt=False)"
   ]
  },
  {
   "cell_type": "code",
   "execution_count": null,
   "id": "b743a42d",
   "metadata": {},
   "outputs": [],
   "source": []
  },
  {
   "cell_type": "code",
   "execution_count": null,
   "id": "69dfce41",
   "metadata": {},
   "outputs": [],
   "source": []
  },
  {
   "cell_type": "code",
   "execution_count": null,
   "id": "3ab4508d",
   "metadata": {},
   "outputs": [],
   "source": []
  },
  {
   "cell_type": "code",
   "execution_count": null,
   "id": "ac43ade5",
   "metadata": {},
   "outputs": [],
   "source": []
  },
  {
   "cell_type": "code",
   "execution_count": 16,
   "id": "e20d9014",
   "metadata": {},
   "outputs": [],
   "source": [
    "class check():\n",
    "    def __init__(self, genres={'소설':'01', '시에세이':'03', '인문':'05', '경제경영':'13', \n",
    "                                '자기계발':'15', '정치사회':'17', '역사문화':'19', \n",
    "                                '예술대중문화':'23', '과학':'29' }):\n",
    "        self.genres = genres\n",
    "        self.urls, self.dfs = {}, {}\n",
    "        \n",
    "    def open_driver(self, url, scroll=False):\n",
    "        user_agent = 'user-agent=Mozilla/5.0 (Windows NT 10.0; Win64; x64) AppleWebKit/537.36 (KHTML, like Gecko) Chrome/109.0.0.0 Safari/537.36'\n",
    "        options = webdriver.ChromeOptions()\n",
    "        options.add_argument(user_agent)\n",
    "        options.add_argument('headless') # 페이지 안 열기 \n",
    "        options.add_argument('window-size=1920x1080') # 사이즈 지정\n",
    "        options.add_argument(\"disable-gpu\") # 안 보이게\n",
    "        self.driver = webdriver.Chrome(options=options)\n",
    "        self.driver.implicitly_wait(1)\n",
    "        self.driver.get(url)\n",
    "        time.sleep(0.5)\n",
    "        \n",
    "        if scroll:\n",
    "            prev_height = self.driver.execute_script('return document.body.scrollHeight')\n",
    "            while True:\n",
    "                self.driver.execute_script('window.scrollTo(0, document.body.scrollHeight)')\n",
    "                time.sleep(1)\n",
    "                curr_height = self.driver.execute_script('return document.body.scrollHeight')\n",
    "                if prev_height == curr_height: break\n",
    "                prev_height = curr_height\n",
    "\n",
    "    def connect_mysql(self, connect=True):\n",
    "        if connect:\n",
    "            self.db = pymysql.connect(host='localhost', port=3306, user='root', passwd='1234', db='mywork', \n",
    "                                      charset='utf8', cursorclass=pymysql.cursors.DictCursor)\n",
    "            self.cursor = self.db.cursor()\n",
    "        else:\n",
    "            self.db.commit()\n",
    "            self.db.close\n",
    "    \n",
    "    def fill_tbl(self, genre):\n",
    "        self.connect_mysql()\n",
    "        tqdm_book = tqdm(self.urls[genre].items())\n",
    "        i = 0\n",
    "        for book_title, book_info in tqdm_book:\n",
    "            i += 1\n",
    "            if i<=72: continue\n",
    "            try: self.open_driver(book_info['url'], scroll=True)\n",
    "            except: continue\n",
    "            \n",
    "            print(book_title)\n",
    "            title = book_title\n",
    "#             title = self.driver.find_element_by_class_name('prod_title').text\n",
    "            author, rank = book_info['author'], book_info['rank']\n",
    "            rate = book_info['rate']\n",
    "            count = book_info['count'] if book_info['count'] is not None else 'Null'\n",
    "            \n",
    "            elems = self.driver.find_elements_by_class_name('category_list_item')\n",
    "            genre_1, genre_2 = '', ''\n",
    "            for elem in elems:\n",
    "                gs = elem.find_elements_by_class_name('intro_category_link')\n",
    "                for i, g in enumerate(gs):\n",
    "                    if i==1: genre_1 += g.text+', '\n",
    "                    elif i==2 or i==3: genre_2 += g.text+', '\n",
    "            if len(genre_1)==0: continue\n",
    "                        \n",
    "            isbn_box = self.driver.find_element_by_class_name('product_detail_area.basic_info')\n",
    "            isbn = int(isbn_box.find_element(By.TAG_NAME, 'td').text)\n",
    "            \n",
    "            sql = '''INSERT INTO gyobo_{0} VALUES(\n",
    "            \"{1}\", \"{2}\", \"{3}\", \"{4}\", {5}, {6}, {7}, {8});\n",
    "            '''.format(genre, title, author, genre_1, genre_2, rank, rate, count, isbn)\n",
    "            print(sql)\n",
    "            self.cursor.execute(sql)\n",
    "            self.db.commit()\n",
    "            tqdm_book.set_description(genre+' insert data')\n",
    "        self.connect_mysql(False)\n",
    "        tqdm_book.close()\n",
    "        \n",
    "    def get_df(self, genre):\n",
    "        self.connect_mysql(True)\n",
    "        sql = 'SELECT * FROM gyobo_{}'.format(genre)\n",
    "        self.cursor.execute(sql)\n",
    "        self.dfs[genre] = pd.DataFrame(self.cursor.fetchall())\n",
    "        self.dfs[genre].to_csv('gyobo_{}.csv'.format(genre), index=False)\n",
    "        self.connect_mysql(False)\n",
    "        print('save gyobo_'+genre+'.csv')\n",
    "    \n",
    "    def auto(self, genre):\n",
    "        self.fill_tbl(genre)\n",
    "        self.get_df(genre)"
   ]
  },
  {
   "cell_type": "code",
   "execution_count": 17,
   "id": "26246b5c",
   "metadata": {
    "scrolled": true
   },
   "outputs": [
    {
     "name": "stderr",
     "output_type": "stream",
     "text": [
      "\r",
      "  0%|                                                                                          | 0/863 [00:00<?, ?it/s]"
     ]
    },
    {
     "name": "stdout",
     "output_type": "stream",
     "text": [
      "담뱃재 북케이스 세트(초판 한정)\n"
     ]
    },
    {
     "name": "stderr",
     "output_type": "stream",
     "text": [
      "  8%|██████▊                                                                          | 73/863 [00:11<01:59,  6.59it/s]"
     ]
    },
    {
     "name": "stdout",
     "output_type": "stream",
     "text": [
      "백련의 패왕과 성약의 발키리 8\n",
      "INSERT INTO gyobo_소설 VALUES(\n",
      "            \"백련의 패왕과 성약의 발키리 8\", \"타카야마 세이치\", \"소설, 소설, \", \"일본소설, 라이트노벨, 라이트노벨, 일본라이트노벨, \", 925, 10, 1, 9791138478434);\n",
      "            \n"
     ]
    },
    {
     "name": "stderr",
     "output_type": "stream",
     "text": [
      "\n"
     ]
    },
    {
     "ename": "ProgrammingError",
     "evalue": "(1146, \"Table 'mywork.gyobo_소설' doesn't exist\")",
     "output_type": "error",
     "traceback": [
      "\u001b[1;31m---------------------------------------------------------------------------\u001b[0m",
      "\u001b[1;31mProgrammingError\u001b[0m                          Traceback (most recent call last)",
      "\u001b[1;32m~\\AppData\\Local\\Temp\\ipykernel_33756\\4239551620.py\u001b[0m in \u001b[0;36m<module>\u001b[1;34m\u001b[0m\n\u001b[0;32m      2\u001b[0m \u001b[0mcheck\u001b[0m\u001b[1;33m.\u001b[0m\u001b[0murls\u001b[0m \u001b[1;33m=\u001b[0m \u001b[0murls\u001b[0m\u001b[1;33m\u001b[0m\u001b[1;33m\u001b[0m\u001b[0m\n\u001b[0;32m      3\u001b[0m \u001b[0mgenre\u001b[0m \u001b[1;33m=\u001b[0m \u001b[1;34m'소설'\u001b[0m\u001b[1;33m\u001b[0m\u001b[1;33m\u001b[0m\u001b[0m\n\u001b[1;32m----> 4\u001b[1;33m \u001b[0mcheck\u001b[0m\u001b[1;33m.\u001b[0m\u001b[0mauto\u001b[0m\u001b[1;33m(\u001b[0m\u001b[0mgenre\u001b[0m\u001b[1;33m)\u001b[0m\u001b[1;33m\u001b[0m\u001b[1;33m\u001b[0m\u001b[0m\n\u001b[0m",
      "\u001b[1;32m~\\AppData\\Local\\Temp\\ipykernel_33756\\880444122.py\u001b[0m in \u001b[0;36mauto\u001b[1;34m(self, genre)\u001b[0m\n\u001b[0;32m     85\u001b[0m \u001b[1;33m\u001b[0m\u001b[0m\n\u001b[0;32m     86\u001b[0m     \u001b[1;32mdef\u001b[0m \u001b[0mauto\u001b[0m\u001b[1;33m(\u001b[0m\u001b[0mself\u001b[0m\u001b[1;33m,\u001b[0m \u001b[0mgenre\u001b[0m\u001b[1;33m)\u001b[0m\u001b[1;33m:\u001b[0m\u001b[1;33m\u001b[0m\u001b[1;33m\u001b[0m\u001b[0m\n\u001b[1;32m---> 87\u001b[1;33m         \u001b[0mself\u001b[0m\u001b[1;33m.\u001b[0m\u001b[0mfill_tbl\u001b[0m\u001b[1;33m(\u001b[0m\u001b[0mgenre\u001b[0m\u001b[1;33m)\u001b[0m\u001b[1;33m\u001b[0m\u001b[1;33m\u001b[0m\u001b[0m\n\u001b[0m\u001b[0;32m     88\u001b[0m         \u001b[0mself\u001b[0m\u001b[1;33m.\u001b[0m\u001b[0mget_df\u001b[0m\u001b[1;33m(\u001b[0m\u001b[0mgenre\u001b[0m\u001b[1;33m)\u001b[0m\u001b[1;33m\u001b[0m\u001b[1;33m\u001b[0m\u001b[0m\n",
      "\u001b[1;32m~\\AppData\\Local\\Temp\\ipykernel_33756\\880444122.py\u001b[0m in \u001b[0;36mfill_tbl\u001b[1;34m(self, genre)\u001b[0m\n\u001b[0;32m     69\u001b[0m             '''.format(genre, title, author, genre_1, genre_2, rank, rate, count, isbn)\n\u001b[0;32m     70\u001b[0m             \u001b[0mprint\u001b[0m\u001b[1;33m(\u001b[0m\u001b[0msql\u001b[0m\u001b[1;33m)\u001b[0m\u001b[1;33m\u001b[0m\u001b[1;33m\u001b[0m\u001b[0m\n\u001b[1;32m---> 71\u001b[1;33m             \u001b[0mself\u001b[0m\u001b[1;33m.\u001b[0m\u001b[0mcursor\u001b[0m\u001b[1;33m.\u001b[0m\u001b[0mexecute\u001b[0m\u001b[1;33m(\u001b[0m\u001b[0msql\u001b[0m\u001b[1;33m)\u001b[0m\u001b[1;33m\u001b[0m\u001b[1;33m\u001b[0m\u001b[0m\n\u001b[0m\u001b[0;32m     72\u001b[0m             \u001b[0mself\u001b[0m\u001b[1;33m.\u001b[0m\u001b[0mdb\u001b[0m\u001b[1;33m.\u001b[0m\u001b[0mcommit\u001b[0m\u001b[1;33m(\u001b[0m\u001b[1;33m)\u001b[0m\u001b[1;33m\u001b[0m\u001b[1;33m\u001b[0m\u001b[0m\n\u001b[0;32m     73\u001b[0m             \u001b[0mtqdm_book\u001b[0m\u001b[1;33m.\u001b[0m\u001b[0mset_description\u001b[0m\u001b[1;33m(\u001b[0m\u001b[0mgenre\u001b[0m\u001b[1;33m+\u001b[0m\u001b[1;34m' insert data'\u001b[0m\u001b[1;33m)\u001b[0m\u001b[1;33m\u001b[0m\u001b[1;33m\u001b[0m\u001b[0m\n",
      "\u001b[1;32m~\\anaconda3\\lib\\site-packages\\pymysql\\cursors.py\u001b[0m in \u001b[0;36mexecute\u001b[1;34m(self, query, args)\u001b[0m\n\u001b[0;32m    146\u001b[0m         \u001b[0mquery\u001b[0m \u001b[1;33m=\u001b[0m \u001b[0mself\u001b[0m\u001b[1;33m.\u001b[0m\u001b[0mmogrify\u001b[0m\u001b[1;33m(\u001b[0m\u001b[0mquery\u001b[0m\u001b[1;33m,\u001b[0m \u001b[0margs\u001b[0m\u001b[1;33m)\u001b[0m\u001b[1;33m\u001b[0m\u001b[1;33m\u001b[0m\u001b[0m\n\u001b[0;32m    147\u001b[0m \u001b[1;33m\u001b[0m\u001b[0m\n\u001b[1;32m--> 148\u001b[1;33m         \u001b[0mresult\u001b[0m \u001b[1;33m=\u001b[0m \u001b[0mself\u001b[0m\u001b[1;33m.\u001b[0m\u001b[0m_query\u001b[0m\u001b[1;33m(\u001b[0m\u001b[0mquery\u001b[0m\u001b[1;33m)\u001b[0m\u001b[1;33m\u001b[0m\u001b[1;33m\u001b[0m\u001b[0m\n\u001b[0m\u001b[0;32m    149\u001b[0m         \u001b[0mself\u001b[0m\u001b[1;33m.\u001b[0m\u001b[0m_executed\u001b[0m \u001b[1;33m=\u001b[0m \u001b[0mquery\u001b[0m\u001b[1;33m\u001b[0m\u001b[1;33m\u001b[0m\u001b[0m\n\u001b[0;32m    150\u001b[0m         \u001b[1;32mreturn\u001b[0m \u001b[0mresult\u001b[0m\u001b[1;33m\u001b[0m\u001b[1;33m\u001b[0m\u001b[0m\n",
      "\u001b[1;32m~\\anaconda3\\lib\\site-packages\\pymysql\\cursors.py\u001b[0m in \u001b[0;36m_query\u001b[1;34m(self, q)\u001b[0m\n\u001b[0;32m    308\u001b[0m         \u001b[0mself\u001b[0m\u001b[1;33m.\u001b[0m\u001b[0m_last_executed\u001b[0m \u001b[1;33m=\u001b[0m \u001b[0mq\u001b[0m\u001b[1;33m\u001b[0m\u001b[1;33m\u001b[0m\u001b[0m\n\u001b[0;32m    309\u001b[0m         \u001b[0mself\u001b[0m\u001b[1;33m.\u001b[0m\u001b[0m_clear_result\u001b[0m\u001b[1;33m(\u001b[0m\u001b[1;33m)\u001b[0m\u001b[1;33m\u001b[0m\u001b[1;33m\u001b[0m\u001b[0m\n\u001b[1;32m--> 310\u001b[1;33m         \u001b[0mconn\u001b[0m\u001b[1;33m.\u001b[0m\u001b[0mquery\u001b[0m\u001b[1;33m(\u001b[0m\u001b[0mq\u001b[0m\u001b[1;33m)\u001b[0m\u001b[1;33m\u001b[0m\u001b[1;33m\u001b[0m\u001b[0m\n\u001b[0m\u001b[0;32m    311\u001b[0m         \u001b[0mself\u001b[0m\u001b[1;33m.\u001b[0m\u001b[0m_do_get_result\u001b[0m\u001b[1;33m(\u001b[0m\u001b[1;33m)\u001b[0m\u001b[1;33m\u001b[0m\u001b[1;33m\u001b[0m\u001b[0m\n\u001b[0;32m    312\u001b[0m         \u001b[1;32mreturn\u001b[0m \u001b[0mself\u001b[0m\u001b[1;33m.\u001b[0m\u001b[0mrowcount\u001b[0m\u001b[1;33m\u001b[0m\u001b[1;33m\u001b[0m\u001b[0m\n",
      "\u001b[1;32m~\\anaconda3\\lib\\site-packages\\pymysql\\connections.py\u001b[0m in \u001b[0;36mquery\u001b[1;34m(self, sql, unbuffered)\u001b[0m\n\u001b[0;32m    546\u001b[0m             \u001b[0msql\u001b[0m \u001b[1;33m=\u001b[0m \u001b[0msql\u001b[0m\u001b[1;33m.\u001b[0m\u001b[0mencode\u001b[0m\u001b[1;33m(\u001b[0m\u001b[0mself\u001b[0m\u001b[1;33m.\u001b[0m\u001b[0mencoding\u001b[0m\u001b[1;33m,\u001b[0m \u001b[1;34m\"surrogateescape\"\u001b[0m\u001b[1;33m)\u001b[0m\u001b[1;33m\u001b[0m\u001b[1;33m\u001b[0m\u001b[0m\n\u001b[0;32m    547\u001b[0m         \u001b[0mself\u001b[0m\u001b[1;33m.\u001b[0m\u001b[0m_execute_command\u001b[0m\u001b[1;33m(\u001b[0m\u001b[0mCOMMAND\u001b[0m\u001b[1;33m.\u001b[0m\u001b[0mCOM_QUERY\u001b[0m\u001b[1;33m,\u001b[0m \u001b[0msql\u001b[0m\u001b[1;33m)\u001b[0m\u001b[1;33m\u001b[0m\u001b[1;33m\u001b[0m\u001b[0m\n\u001b[1;32m--> 548\u001b[1;33m         \u001b[0mself\u001b[0m\u001b[1;33m.\u001b[0m\u001b[0m_affected_rows\u001b[0m \u001b[1;33m=\u001b[0m \u001b[0mself\u001b[0m\u001b[1;33m.\u001b[0m\u001b[0m_read_query_result\u001b[0m\u001b[1;33m(\u001b[0m\u001b[0munbuffered\u001b[0m\u001b[1;33m=\u001b[0m\u001b[0munbuffered\u001b[0m\u001b[1;33m)\u001b[0m\u001b[1;33m\u001b[0m\u001b[1;33m\u001b[0m\u001b[0m\n\u001b[0m\u001b[0;32m    549\u001b[0m         \u001b[1;32mreturn\u001b[0m \u001b[0mself\u001b[0m\u001b[1;33m.\u001b[0m\u001b[0m_affected_rows\u001b[0m\u001b[1;33m\u001b[0m\u001b[1;33m\u001b[0m\u001b[0m\n\u001b[0;32m    550\u001b[0m \u001b[1;33m\u001b[0m\u001b[0m\n",
      "\u001b[1;32m~\\anaconda3\\lib\\site-packages\\pymysql\\connections.py\u001b[0m in \u001b[0;36m_read_query_result\u001b[1;34m(self, unbuffered)\u001b[0m\n\u001b[0;32m    773\u001b[0m         \u001b[1;32melse\u001b[0m\u001b[1;33m:\u001b[0m\u001b[1;33m\u001b[0m\u001b[1;33m\u001b[0m\u001b[0m\n\u001b[0;32m    774\u001b[0m             \u001b[0mresult\u001b[0m \u001b[1;33m=\u001b[0m \u001b[0mMySQLResult\u001b[0m\u001b[1;33m(\u001b[0m\u001b[0mself\u001b[0m\u001b[1;33m)\u001b[0m\u001b[1;33m\u001b[0m\u001b[1;33m\u001b[0m\u001b[0m\n\u001b[1;32m--> 775\u001b[1;33m             \u001b[0mresult\u001b[0m\u001b[1;33m.\u001b[0m\u001b[0mread\u001b[0m\u001b[1;33m(\u001b[0m\u001b[1;33m)\u001b[0m\u001b[1;33m\u001b[0m\u001b[1;33m\u001b[0m\u001b[0m\n\u001b[0m\u001b[0;32m    776\u001b[0m         \u001b[0mself\u001b[0m\u001b[1;33m.\u001b[0m\u001b[0m_result\u001b[0m \u001b[1;33m=\u001b[0m \u001b[0mresult\u001b[0m\u001b[1;33m\u001b[0m\u001b[1;33m\u001b[0m\u001b[0m\n\u001b[0;32m    777\u001b[0m         \u001b[1;32mif\u001b[0m \u001b[0mresult\u001b[0m\u001b[1;33m.\u001b[0m\u001b[0mserver_status\u001b[0m \u001b[1;32mis\u001b[0m \u001b[1;32mnot\u001b[0m \u001b[1;32mNone\u001b[0m\u001b[1;33m:\u001b[0m\u001b[1;33m\u001b[0m\u001b[1;33m\u001b[0m\u001b[0m\n",
      "\u001b[1;32m~\\anaconda3\\lib\\site-packages\\pymysql\\connections.py\u001b[0m in \u001b[0;36mread\u001b[1;34m(self)\u001b[0m\n\u001b[0;32m   1154\u001b[0m     \u001b[1;32mdef\u001b[0m \u001b[0mread\u001b[0m\u001b[1;33m(\u001b[0m\u001b[0mself\u001b[0m\u001b[1;33m)\u001b[0m\u001b[1;33m:\u001b[0m\u001b[1;33m\u001b[0m\u001b[1;33m\u001b[0m\u001b[0m\n\u001b[0;32m   1155\u001b[0m         \u001b[1;32mtry\u001b[0m\u001b[1;33m:\u001b[0m\u001b[1;33m\u001b[0m\u001b[1;33m\u001b[0m\u001b[0m\n\u001b[1;32m-> 1156\u001b[1;33m             \u001b[0mfirst_packet\u001b[0m \u001b[1;33m=\u001b[0m \u001b[0mself\u001b[0m\u001b[1;33m.\u001b[0m\u001b[0mconnection\u001b[0m\u001b[1;33m.\u001b[0m\u001b[0m_read_packet\u001b[0m\u001b[1;33m(\u001b[0m\u001b[1;33m)\u001b[0m\u001b[1;33m\u001b[0m\u001b[1;33m\u001b[0m\u001b[0m\n\u001b[0m\u001b[0;32m   1157\u001b[0m \u001b[1;33m\u001b[0m\u001b[0m\n\u001b[0;32m   1158\u001b[0m             \u001b[1;32mif\u001b[0m \u001b[0mfirst_packet\u001b[0m\u001b[1;33m.\u001b[0m\u001b[0mis_ok_packet\u001b[0m\u001b[1;33m(\u001b[0m\u001b[1;33m)\u001b[0m\u001b[1;33m:\u001b[0m\u001b[1;33m\u001b[0m\u001b[1;33m\u001b[0m\u001b[0m\n",
      "\u001b[1;32m~\\anaconda3\\lib\\site-packages\\pymysql\\connections.py\u001b[0m in \u001b[0;36m_read_packet\u001b[1;34m(self, packet_type)\u001b[0m\n\u001b[0;32m    723\u001b[0m             \u001b[1;32mif\u001b[0m \u001b[0mself\u001b[0m\u001b[1;33m.\u001b[0m\u001b[0m_result\u001b[0m \u001b[1;32mis\u001b[0m \u001b[1;32mnot\u001b[0m \u001b[1;32mNone\u001b[0m \u001b[1;32mand\u001b[0m \u001b[0mself\u001b[0m\u001b[1;33m.\u001b[0m\u001b[0m_result\u001b[0m\u001b[1;33m.\u001b[0m\u001b[0munbuffered_active\u001b[0m \u001b[1;32mis\u001b[0m \u001b[1;32mTrue\u001b[0m\u001b[1;33m:\u001b[0m\u001b[1;33m\u001b[0m\u001b[1;33m\u001b[0m\u001b[0m\n\u001b[0;32m    724\u001b[0m                 \u001b[0mself\u001b[0m\u001b[1;33m.\u001b[0m\u001b[0m_result\u001b[0m\u001b[1;33m.\u001b[0m\u001b[0munbuffered_active\u001b[0m \u001b[1;33m=\u001b[0m \u001b[1;32mFalse\u001b[0m\u001b[1;33m\u001b[0m\u001b[1;33m\u001b[0m\u001b[0m\n\u001b[1;32m--> 725\u001b[1;33m             \u001b[0mpacket\u001b[0m\u001b[1;33m.\u001b[0m\u001b[0mraise_for_error\u001b[0m\u001b[1;33m(\u001b[0m\u001b[1;33m)\u001b[0m\u001b[1;33m\u001b[0m\u001b[1;33m\u001b[0m\u001b[0m\n\u001b[0m\u001b[0;32m    726\u001b[0m         \u001b[1;32mreturn\u001b[0m \u001b[0mpacket\u001b[0m\u001b[1;33m\u001b[0m\u001b[1;33m\u001b[0m\u001b[0m\n\u001b[0;32m    727\u001b[0m \u001b[1;33m\u001b[0m\u001b[0m\n",
      "\u001b[1;32m~\\anaconda3\\lib\\site-packages\\pymysql\\protocol.py\u001b[0m in \u001b[0;36mraise_for_error\u001b[1;34m(self)\u001b[0m\n\u001b[0;32m    219\u001b[0m         \u001b[1;32mif\u001b[0m \u001b[0mDEBUG\u001b[0m\u001b[1;33m:\u001b[0m\u001b[1;33m\u001b[0m\u001b[1;33m\u001b[0m\u001b[0m\n\u001b[0;32m    220\u001b[0m             \u001b[0mprint\u001b[0m\u001b[1;33m(\u001b[0m\u001b[1;34m\"errno =\"\u001b[0m\u001b[1;33m,\u001b[0m \u001b[0merrno\u001b[0m\u001b[1;33m)\u001b[0m\u001b[1;33m\u001b[0m\u001b[1;33m\u001b[0m\u001b[0m\n\u001b[1;32m--> 221\u001b[1;33m         \u001b[0merr\u001b[0m\u001b[1;33m.\u001b[0m\u001b[0mraise_mysql_exception\u001b[0m\u001b[1;33m(\u001b[0m\u001b[0mself\u001b[0m\u001b[1;33m.\u001b[0m\u001b[0m_data\u001b[0m\u001b[1;33m)\u001b[0m\u001b[1;33m\u001b[0m\u001b[1;33m\u001b[0m\u001b[0m\n\u001b[0m\u001b[0;32m    222\u001b[0m \u001b[1;33m\u001b[0m\u001b[0m\n\u001b[0;32m    223\u001b[0m     \u001b[1;32mdef\u001b[0m \u001b[0mdump\u001b[0m\u001b[1;33m(\u001b[0m\u001b[0mself\u001b[0m\u001b[1;33m)\u001b[0m\u001b[1;33m:\u001b[0m\u001b[1;33m\u001b[0m\u001b[1;33m\u001b[0m\u001b[0m\n",
      "\u001b[1;32m~\\anaconda3\\lib\\site-packages\\pymysql\\err.py\u001b[0m in \u001b[0;36mraise_mysql_exception\u001b[1;34m(data)\u001b[0m\n\u001b[0;32m    141\u001b[0m     \u001b[1;32mif\u001b[0m \u001b[0merrorclass\u001b[0m \u001b[1;32mis\u001b[0m \u001b[1;32mNone\u001b[0m\u001b[1;33m:\u001b[0m\u001b[1;33m\u001b[0m\u001b[1;33m\u001b[0m\u001b[0m\n\u001b[0;32m    142\u001b[0m         \u001b[0merrorclass\u001b[0m \u001b[1;33m=\u001b[0m \u001b[0mInternalError\u001b[0m \u001b[1;32mif\u001b[0m \u001b[0merrno\u001b[0m \u001b[1;33m<\u001b[0m \u001b[1;36m1000\u001b[0m \u001b[1;32melse\u001b[0m \u001b[0mOperationalError\u001b[0m\u001b[1;33m\u001b[0m\u001b[1;33m\u001b[0m\u001b[0m\n\u001b[1;32m--> 143\u001b[1;33m     \u001b[1;32mraise\u001b[0m \u001b[0merrorclass\u001b[0m\u001b[1;33m(\u001b[0m\u001b[0merrno\u001b[0m\u001b[1;33m,\u001b[0m \u001b[0merrval\u001b[0m\u001b[1;33m)\u001b[0m\u001b[1;33m\u001b[0m\u001b[1;33m\u001b[0m\u001b[0m\n\u001b[0m",
      "\u001b[1;31mProgrammingError\u001b[0m: (1146, \"Table 'mywork.gyobo_소설' doesn't exist\")"
     ]
    }
   ],
   "source": [
    "check = check()\n",
    "check.urls = urls\n",
    "genre = '소설'\n",
    "check.auto(genre)"
   ]
  },
  {
   "cell_type": "code",
   "execution_count": 11,
   "id": "d8204e83",
   "metadata": {},
   "outputs": [
    {
     "data": {
      "text/html": [
       "<div>\n",
       "<style scoped>\n",
       "    .dataframe tbody tr th:only-of-type {\n",
       "        vertical-align: middle;\n",
       "    }\n",
       "\n",
       "    .dataframe tbody tr th {\n",
       "        vertical-align: top;\n",
       "    }\n",
       "\n",
       "    .dataframe thead th {\n",
       "        text-align: right;\n",
       "    }\n",
       "</style>\n",
       "<table border=\"1\" class=\"dataframe\">\n",
       "  <thead>\n",
       "    <tr style=\"text-align: right;\">\n",
       "      <th></th>\n",
       "      <th>title</th>\n",
       "      <th>author</th>\n",
       "      <th>genre_1</th>\n",
       "      <th>genre_2</th>\n",
       "      <th>brank</th>\n",
       "      <th>rate</th>\n",
       "      <th>count</th>\n",
       "    </tr>\n",
       "  </thead>\n",
       "  <tbody>\n",
       "    <tr>\n",
       "      <th>72</th>\n",
       "      <td>담뱃재 북케이스 세트(초판 한정)</td>\n",
       "      <td>원리드</td>\n",
       "      <td>NaN</td>\n",
       "      <td>NaN</td>\n",
       "      <td>924</td>\n",
       "      <td>0.0</td>\n",
       "      <td>NaN</td>\n",
       "    </tr>\n",
       "  </tbody>\n",
       "</table>\n",
       "</div>"
      ],
      "text/plain": [
       "                 title author genre_1 genre_2  brank  rate  count\n",
       "72  담뱃재 북케이스 세트(초판 한정)    원리드     NaN     NaN    924   0.0    NaN"
      ]
     },
     "execution_count": 11,
     "metadata": {},
     "output_type": "execute_result"
    }
   ],
   "source": [
    "df = pd.read_csv('gyobo_소설.csv')\n",
    "df[df['title']=='담뱃재 북케이스 세트(초판 한정)']"
   ]
  },
  {
   "cell_type": "code",
   "execution_count": null,
   "id": "fbc51299",
   "metadata": {},
   "outputs": [],
   "source": []
  }
 ],
 "metadata": {
  "kernelspec": {
   "display_name": "Python 3 (ipykernel)",
   "language": "python",
   "name": "python3"
  },
  "language_info": {
   "codemirror_mode": {
    "name": "ipython",
    "version": 3
   },
   "file_extension": ".py",
   "mimetype": "text/x-python",
   "name": "python",
   "nbconvert_exporter": "python",
   "pygments_lexer": "ipython3",
   "version": "3.9.13"
  }
 },
 "nbformat": 4,
 "nbformat_minor": 5
}
