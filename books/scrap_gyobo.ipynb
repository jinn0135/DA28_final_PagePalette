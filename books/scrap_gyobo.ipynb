{
 "cells": [
  {
   "cell_type": "code",
   "execution_count": 1,
   "id": "5189b8b9",
   "metadata": {},
   "outputs": [],
   "source": [
    "import requests\n",
    "from bs4 import BeautifulSoup\n",
    "import selenium\n",
    "from selenium import webdriver\n",
    "from selenium.webdriver.common.keys import Keys\n",
    "# elem.send_keys(Keys.ENTER)\n",
    "from selenium.webdriver.common.by import By\n",
    "from selenium.webdriver.support.ui import WebDriverWait\n",
    "from selenium.webdriver.support import expected_conditions as EC\n",
    "from selenium.webdriver import ActionChains\n",
    "import re\n",
    "import time\n",
    "from datetime import datetime\n",
    "import pickle\n",
    "\n",
    "import pymysql \n",
    "import pandas as pd \n",
    "import numpy as np\n",
    "from tqdm import tqdm\n",
    "\n",
    "# # save data\n",
    "# with open('urls.pickle','wb') as fw:\n",
    "#     pickle.dump(myset.urls, fw)\n",
    "\n",
    "# # load data\n",
    "# with open('urls.pickle', 'rb') as fr:\n",
    "#     urls = pickle.load(fr)"
   ]
  },
  {
   "cell_type": "code",
   "execution_count": 2,
   "id": "85bb9aa8",
   "metadata": {},
   "outputs": [],
   "source": [
    "class createDB():\n",
    "    def __init__(self, genres={'소설':'01', '시에세이':'03', '인문':'05', '경제경영':'13', \n",
    "                                '자기계발':'15', '정치사회':'17', '역사문화':'19', \n",
    "                                '예술대중문화':'23', '과학':'29' }):\n",
    "        self.genres = genres\n",
    "        self.urls, self.dfs = {}, {}\n",
    "        \n",
    "    def open_driver(self, url, scroll=False):\n",
    "        user_agent = 'user-agent=Mozilla/5.0 (Windows NT 10.0; Win64; x64) AppleWebKit/537.36 (KHTML, like Gecko) Chrome/109.0.0.0 Safari/537.36'\n",
    "        options = webdriver.ChromeOptions()\n",
    "        options.add_argument(user_agent)\n",
    "        options.add_argument('headless') # 페이지 안 열기 \n",
    "        options.add_argument('window-size=1920x1080') # 사이즈 지정\n",
    "        options.add_argument(\"disable-gpu\") # 안 보이게\n",
    "        self.driver = webdriver.Chrome(options=options)\n",
    "        self.driver.implicitly_wait(1)\n",
    "        self.driver.get(url)\n",
    "        time.sleep(0.5)\n",
    "        \n",
    "        if scroll:\n",
    "            prev_height = self.driver.execute_script('return document.body.scrollHeight')\n",
    "            while True:\n",
    "                self.driver.execute_script('window.scrollTo(0, document.body.scrollHeight)')\n",
    "                time.sleep(1)\n",
    "                curr_height = self.driver.execute_script('return document.body.scrollHeight')\n",
    "                if prev_height == curr_height: break\n",
    "                prev_height = curr_height\n",
    "        \n",
    "    def save_urls(self, genre):\n",
    "        self.urls[genre] = {}\n",
    "        tqdm_pages = tqdm(range(20,0,-1))\n",
    "        for page in tqdm_pages: # 한 페이지 당 50권, 20페이지 반복(1000위까지)\n",
    "            url = 'https://product.kyobobook.co.kr/category/KOR/{}#?page={}&type=best&per=50'.format(self.genres[genre], page)\n",
    "            self.open_driver(url)\n",
    "            best = self.driver.find_element_by_css_selector('#homeTabBest')\n",
    "            elems = best.find_elements_by_class_name('prod_info_box')\n",
    "            for i, elem in enumerate(elems):\n",
    "                print('page-i:', page, i)\n",
    "                try:\n",
    "                    title = elem.find_element_by_css_selector('.prod_name').text\n",
    "                    rank = elem.find_element_by_class_name('text').text\n",
    "                    author = elem.find_element_by_css_selector('.prod_author > a').text\n",
    "                    temp_url = elem.find_element_by_class_name('prod_info')\n",
    "                    url = temp_url.get_attribute('href')\n",
    "                    temp_rate = elem.find_element_by_class_name('review_klover_box')\n",
    "                    rate = temp_rate.find_element(By.TAG_NAME, 'span').text\n",
    "                    temp_count = elem.find_element_by_css_selector('.review_desc').text\n",
    "                    count = re.sub(r'[^0-9]', '', temp_count)\n",
    "                    \n",
    "                    self.urls[genre][title] = {}\n",
    "                    self.urls[genre][title]['url'] = url\n",
    "                    self.urls[genre][title]['rank'] = int(rank)\n",
    "                    self.urls[genre][title]['author'] = author\n",
    "                    self.urls[genre][title]['rate'] = float(rate)\n",
    "                    self.urls[genre][title]['count'] = int(count)\n",
    "                except: print('pass')\n",
    "                    \n",
    "            tqdm_pages.set_description(genre+' '+str(page)+' urls')\n",
    "        tqdm_pages.close()\n",
    "\n",
    "    def connect_mysql(self, connect=True):\n",
    "        if connect:\n",
    "            self.db = pymysql.connect(host='localhost', port=3306, user='root', passwd='1234', db='mywork', \n",
    "                                      charset='utf8', cursorclass=pymysql.cursors.DictCursor)\n",
    "            self.cursor = self.db.cursor()\n",
    "        else:\n",
    "            self.db.commit()\n",
    "            self.db.close\n",
    "            \n",
    "    def create_tbl(self, genre):\n",
    "        self.connect_mysql()\n",
    "        sql = \"\"\"CREATE TABLE IF NOT EXISTS gyobo_{}(\n",
    "                title VARCHAR(100), author VARCHAR(100),\n",
    "                genre_1 VARCHAR(200), genre_2 VARCHAR(300), \n",
    "                brank SMALLINT, rate DOUBLE, count SMALLINT\n",
    "                );\"\"\".format(genre)\n",
    "        self.cursor.execute(sql)\n",
    "        self.connect_mysql(False)\n",
    "    \n",
    "    def fill_tbl(self, genre):\n",
    "        self.connect_mysql()\n",
    "        tqdm_book = tqdm(self.urls[genre].items())\n",
    "        for book_title, book_info in tqdm_book:\n",
    "            try: self.open_driver(book_info['url'], scroll=True)\n",
    "            except: continue\n",
    "                \n",
    "            title = book_title\n",
    "#             title = self.driver.find_element_by_class_name('prod_title').text\n",
    "            author, rank = book_info['author'], book_info['rank']\n",
    "            rate = book_info['rate']\n",
    "            count = book_info['count'] if book_info['count'] is not None else 'Null'\n",
    "            \n",
    "            elems = self.driver.find_elements_by_class_name('category_list_item')\n",
    "            genre_1, genre_2 = '', ''\n",
    "            for elem in elems:\n",
    "                gs = elem.find_elements_by_class_name('intro_category_link')\n",
    "                for i, g in enumerate(gs):\n",
    "                    if i==1: genre_1 += g.text+', '\n",
    "                    elif i==2 or i==3: genre_2 += g.text+', '\n",
    "            \n",
    "            sql = '''INSERT INTO gyobo_{0} VALUES(\n",
    "            \"{1}\", \"{2}\", \"{3}\", \"{4}\", {5}, {6}, {7});\n",
    "            '''.format(genre, title, author, genre_1, genre_2, rank, rate, count)\n",
    "            self.cursor.execute(sql)\n",
    "            self.db.commit()\n",
    "            tqdm_book.set_description(genre+' insert data')\n",
    "        self.connect_mysql(False)\n",
    "        tqdm_book.close()\n",
    "        \n",
    "    def get_df(self, genre):\n",
    "        self.connect_mysql(True)\n",
    "        sql = 'SELECT * FROM gyobo_{}'.format(genre)\n",
    "        self.cursor.execute(sql)\n",
    "        self.dfs[genre] = pd.DataFrame(self.cursor.fetchall())\n",
    "        self.dfs[genre].to_csv('gyobo_{}.csv'.format(genre), index=False)\n",
    "        self.connect_mysql(False)\n",
    "        print('save gyobo_'+genre+'.csv')\n",
    "    \n",
    "    def auto(self, genre, opt=True):\n",
    "        if opt: self.save_urls(genre)\n",
    "        self.create_tbl(genre)\n",
    "        self.fill_tbl(genre)\n",
    "        self.get_df(genre)"
   ]
  },
  {
   "cell_type": "code",
   "execution_count": 3,
   "id": "e3b99904",
   "metadata": {
    "scrolled": true
   },
   "outputs": [
    {
     "name": "stdout",
     "output_type": "stream",
     "text": [
      "{'소설': '01', '시에세이': '03', '인문': '05', '경제경영': '13', '자기계발': '15', '정치사회': '17', '역사문화': '19', '예술대중문화': '23', '과학': '29'}\n"
     ]
    }
   ],
   "source": [
    "myset = createDB()\n",
    "print(myset.genres)\n",
    "# for genre in myset.genres.keys():\n",
    "#     myset.auto(genre)"
   ]
  },
  {
   "cell_type": "code",
   "execution_count": 4,
   "id": "68a70d99",
   "metadata": {},
   "outputs": [
    {
     "name": "stdout",
     "output_type": "stream",
     "text": [
      "dict_keys(['소설', '시에세이', '인문'])\n",
      "dict_keys(['경제경영', '자기계발', '정치사회', '역사문화', '예술대중문화', '과학'])\n"
     ]
    }
   ],
   "source": [
    "with open('urls_gyobo_novel_poem_inmun.pickle', 'rb') as fr:\n",
    "    urls_1 = pickle.load(fr)\n",
    "print(urls_1.keys())\n",
    "    \n",
    "with open('urls_gyobo_others.pickle', 'rb') as fr:\n",
    "    urls_2 = pickle.load(fr)\n",
    "print(urls_2.keys())"
   ]
  },
  {
   "cell_type": "code",
   "execution_count": 5,
   "id": "de6520dc",
   "metadata": {},
   "outputs": [
    {
     "name": "stdout",
     "output_type": "stream",
     "text": [
      "소설 863\n",
      "시에세이 945\n",
      "인문 890\n",
      "경제경영 990\n",
      "자기계발 943\n",
      "정치사회 983\n",
      "역사문화 998\n",
      "예술대중문화 990\n",
      "과학 978\n"
     ]
    }
   ],
   "source": [
    "urls = urls_1\n",
    "for g in urls_2.keys():\n",
    "    urls[g] = urls_2[g]\n",
    "for g in urls.keys():\n",
    "    print(g, len(urls[g].keys()))"
   ]
  },
  {
   "cell_type": "code",
   "execution_count": 6,
   "id": "9b38afa5",
   "metadata": {},
   "outputs": [],
   "source": [
    "with open('urls_gyobo.pickle','wb') as fw:\n",
    "    pickle.dump(urls, fw)"
   ]
  },
  {
   "cell_type": "code",
   "execution_count": null,
   "id": "d3fbc500",
   "metadata": {},
   "outputs": [
    {
     "name": "stderr",
     "output_type": "stream",
     "text": [
      "소설 insert data:  56%|████████████████████████████████▎                         | 481/863 [1:34:52<1:37:38, 15.34s/it]s]"
     ]
    }
   ],
   "source": [
    "genre = ['소설','시에세이','인문'] # 863, 945, 890\n",
    "with open('urls_gyobo.pickle', 'rb') as fr:\n",
    "    urls = pickle.load(fr)\n",
    "myset.urls = urls\n",
    "for genre in urls.keys():\n",
    "    myset.auto(genre, opt=False)"
   ]
  },
  {
   "cell_type": "code",
   "execution_count": null,
   "id": "7d093905",
   "metadata": {},
   "outputs": [],
   "source": []
  },
  {
   "cell_type": "code",
   "execution_count": null,
   "id": "265a6fe3",
   "metadata": {},
   "outputs": [],
   "source": []
  }
 ],
 "metadata": {
  "kernelspec": {
   "display_name": "Python 3 (ipykernel)",
   "language": "python",
   "name": "python3"
  },
  "language_info": {
   "codemirror_mode": {
    "name": "ipython",
    "version": 3
   },
   "file_extension": ".py",
   "mimetype": "text/x-python",
   "name": "python",
   "nbconvert_exporter": "python",
   "pygments_lexer": "ipython3",
   "version": "3.9.13"
  }
 },
 "nbformat": 4,
 "nbformat_minor": 5
}
