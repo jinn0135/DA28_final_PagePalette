{
 "cells": [
  {
   "cell_type": "markdown",
   "id": "9b9356dd",
   "metadata": {},
   "source": [
    "# import "
   ]
  },
  {
   "cell_type": "code",
   "execution_count": 1,
   "id": "5189b8b9",
   "metadata": {},
   "outputs": [],
   "source": [
    "import requests\n",
    "import selenium\n",
    "from selenium import webdriver\n",
    "from selenium.webdriver.common.keys import Keys\n",
    "from selenium.webdriver.common.by import By\n",
    "from selenium.webdriver.support.ui import WebDriverWait\n",
    "from selenium.webdriver.support import expected_conditions as EC\n",
    "from selenium.webdriver import ActionChains\n",
    "import re, time\n",
    "from datetime import datetime\n",
    "import pickle\n",
    "import pymysql \n",
    "import pandas as pd \n",
    "import numpy as np\n",
    "from tqdm import tqdm\n",
    "\n",
    "from book_scrap import createDB\n",
    "from recommBook import sortBook, recommBook"
   ]
  },
  {
   "cell_type": "markdown",
   "id": "5727e565",
   "metadata": {},
   "source": [
    "## 도서 정보 스크래핑"
   ]
  },
  {
   "cell_type": "code",
   "execution_count": 3,
   "id": "e3b99904",
   "metadata": {
    "scrolled": true
   },
   "outputs": [
    {
     "name": "stdout",
     "output_type": "stream",
     "text": [
      "{'소설': '01', '시에세이': '03', '인문': '05', '경제경영': '13', '자기계발': '15', '정치사회': '17', '역사문화': '19', '예술대중문화': '23', '과학': '29'}\n"
     ]
    }
   ],
   "source": [
    "myset = createDB()\n",
    "print(myset.genres)\n",
    "# for genre in myset.genres.keys():\n",
    "#     myset.auto(genre)"
   ]
  },
  {
   "cell_type": "markdown",
   "id": "1d190afe",
   "metadata": {},
   "source": [
    "```\n",
    "urls = {\n",
    "    large_category: { # '소설'과 같은 큰 장르\n",
    "        title: { # '책 제목'\n",
    "            'author': author, # 저자\n",
    "            'url': url, # url\n",
    "            'rank': rank, # 인기순위\n",
    "            'rate': rate, # 평점\n",
    "            'count': count, # 리뷰 수\n",
    "        }}}\n",
    "```"
   ]
  },
  {
   "cell_type": "markdown",
   "id": "3b0bfd96",
   "metadata": {},
   "source": [
    "#### 피클 불러와서 장르별 개수 확인"
   ]
  },
  {
   "cell_type": "code",
   "execution_count": 4,
   "id": "01893746",
   "metadata": {},
   "outputs": [
    {
     "name": "stdout",
     "output_type": "stream",
     "text": [
      "소설 863\n",
      "시에세이 945\n",
      "인문 890\n",
      "경제경영 990\n",
      "자기계발 943\n",
      "정치사회 983\n",
      "역사문화 998\n",
      "예술대중문화 990\n",
      "과학 978\n"
     ]
    }
   ],
   "source": [
    "with open('urls_gyobo.pickle', 'rb') as fr:\n",
    "    urls = pickle.load(fr)\n",
    "\n",
    "for genre in urls.keys():\n",
    "    print(genre, len(urls[genre].keys()))"
   ]
  },
  {
   "cell_type": "code",
   "execution_count": null,
   "id": "b25feea4",
   "metadata": {
    "scrolled": true
   },
   "outputs": [
    {
     "name": "stderr",
     "output_type": "stream",
     "text": [
      "소설 insert data: 100%|████████████████████████████████████████████████████████████| 863/863 [1:55:47<00:00,  8.05s/it]s]\n"
     ]
    },
    {
     "name": "stdout",
     "output_type": "stream",
     "text": [
      "save gyobo_소설.csv\n"
     ]
    },
    {
     "name": "stderr",
     "output_type": "stream",
     "text": [
      "시에세이 insert data: 100%|████████████████████████████████████████████████████████| 945/945 [2:08:18<00:00,  8.15s/it]t/s]\n"
     ]
    },
    {
     "name": "stdout",
     "output_type": "stream",
     "text": [
      "save gyobo_시에세이.csv\n"
     ]
    },
    {
     "name": "stderr",
     "output_type": "stream",
     "text": [
      "인문 insert data: 100%|████████████████████████████████████████████████████████████| 890/890 [2:03:03<00:00,  8.30s/it]s]\n"
     ]
    },
    {
     "name": "stdout",
     "output_type": "stream",
     "text": [
      "save gyobo_인문.csv\n"
     ]
    },
    {
     "name": "stderr",
     "output_type": "stream",
     "text": [
      "경제경영 insert data: 100%|████████████████████████████████████████████████████████| 990/990 [2:08:47<00:00,  7.81s/it]t/s]\n"
     ]
    },
    {
     "name": "stdout",
     "output_type": "stream",
     "text": [
      "save gyobo_경제경영.csv\n"
     ]
    },
    {
     "name": "stderr",
     "output_type": "stream",
     "text": [
      "자기계발 insert data: 100%|████████████████████████████████████████████████████████| 943/943 [2:03:38<00:00,  7.87s/it]t/s]\n"
     ]
    },
    {
     "name": "stdout",
     "output_type": "stream",
     "text": [
      "save gyobo_자기계발.csv\n"
     ]
    },
    {
     "name": "stderr",
     "output_type": "stream",
     "text": [
      "정치사회 insert data: 100%|████████████████████████████████████████████████████████| 983/983 [2:04:38<00:00,  7.61s/it]t/s]\n"
     ]
    },
    {
     "name": "stdout",
     "output_type": "stream",
     "text": [
      "save gyobo_정치사회.csv\n"
     ]
    },
    {
     "name": "stderr",
     "output_type": "stream",
     "text": [
      "역사문화 insert data:  42%|████████████████████████▎                                 | 419/998 [52:38<59:22,  6.15s/it]t/s]"
     ]
    }
   ],
   "source": [
    "myset.urls = urls\n",
    "for genre in urls.keys():\n",
    "    myset.auto(genre, opt=False)"
   ]
  },
  {
   "cell_type": "code",
   "execution_count": 5,
   "id": "b743a42d",
   "metadata": {},
   "outputs": [
    {
     "name": "stderr",
     "output_type": "stream",
     "text": [
      "역사문화 insert data: 100%|████████████████████████████████████████████████████████| 998/998 [2:08:33<00:00,  7.73s/it]t/s]\n"
     ]
    },
    {
     "name": "stdout",
     "output_type": "stream",
     "text": [
      "save gyobo_역사문화.csv\n"
     ]
    },
    {
     "name": "stderr",
     "output_type": "stream",
     "text": [
      "예술대중문화 insert data: 100%|████████████████████████████████████████████████████| 990/990 [2:06:24<00:00,  7.66s/it]?it/s]\n"
     ]
    },
    {
     "name": "stdout",
     "output_type": "stream",
     "text": [
      "save gyobo_예술대중문화.csv\n"
     ]
    },
    {
     "name": "stderr",
     "output_type": "stream",
     "text": [
      "과학 insert data: 100%|████████████████████████████████████████████████████████████| 978/978 [2:09:22<00:00,  7.94s/it]s]\n"
     ]
    },
    {
     "name": "stdout",
     "output_type": "stream",
     "text": [
      "save gyobo_과학.csv\n"
     ]
    }
   ],
   "source": [
    "myset.urls = urls\n",
    "for genre in ['역사문화','예술대중문화','과학']:\n",
    "    myset.auto(genre, opt=False)"
   ]
  },
  {
   "cell_type": "markdown",
   "id": "114d082f",
   "metadata": {},
   "source": [
    "## 사용자 별 맞춤 책 추천 "
   ]
  },
  {
   "cell_type": "code",
   "execution_count": null,
   "id": "fbc51299",
   "metadata": {},
   "outputs": [],
   "source": [
    "# sample user data\n",
    "user_info1 = pd.DataFrame({'email':'1', 'pw':'1234', 'gender':'female', 'age':20,\n",
    "                        'large_category':'소설,소설,시에세이', 'middle_category':'영미소설,판타지소설,한국시',\n",
    "                        'selected_book_isbn':'9788925554990,9788925576633,9791157956357'}, index=[0])\n",
    "user_info2 = pd.DataFrame({'email':'2', 'pw':'1234', 'gender':'female', 'age':20,\n",
    "                        'large_category':'소설,인문', 'middle_category':'한국소설,언어학',\n",
    "                        'selected_book_isbn':'9791191891287,9791192097442'}, index=[0])\n",
    "user_info3 = pd.DataFrame({'email':'3', 'pw':'1234', 'gender':'female', 'age':20,\n",
    "                        'large_category':'예술대중문화,예술대중문화', 'middle_category':'영화,음악',\n",
    "                        'selected_book_isbn':'9788934942436,9788967212032'}, index=[0])\n",
    "\n",
    "book_df = pd.DataFrame({'title':'해리포터', 'author':'조앤K롤링', \n",
    "              'large_category':'소설,소설', 'middle_category':'영미소설,판타지소설', \n",
    "              'b_rank':20, 'rate':9.4, 'count':1324, 'isbn': 566465456545, 'img':'httpe://~~'}, index=[0])\n",
    "display(user_info1)\n",
    "display(book_df)"
   ]
  },
  {
   "cell_type": "markdown",
   "id": "d8fa8d2a",
   "metadata": {},
   "source": [
    "### step1 : 사용자가 선택한 선호장르를 바탕으로  책 추천 후보 12권 select 하기 "
   ]
  },
  {
   "cell_type": "code",
   "execution_count": null,
   "id": "65271ffb",
   "metadata": {},
   "outputs": [],
   "source": [
    "check = sortBook(user_info)\n",
    "step1 = check()\n",
    "step1"
   ]
  },
  {
   "cell_type": "markdown",
   "id": "da93836c",
   "metadata": {},
   "source": [
    "### step2 : 사용자에게 메일로 보내줄 최종 추천 도서 4권 select하기"
   ]
  },
  {
   "cell_type": "code",
   "execution_count": null,
   "id": "ffa2ade0",
   "metadata": {},
   "outputs": [],
   "source": [
    "myrecomm = recommBook(user_info)\n",
    "step2 = myrecomm()\n",
    "step2"
   ]
  },
  {
   "cell_type": "code",
   "execution_count": null,
   "id": "11f92495",
   "metadata": {},
   "outputs": [],
   "source": []
  },
  {
   "cell_type": "code",
   "execution_count": null,
   "id": "392598d1",
   "metadata": {},
   "outputs": [],
   "source": []
  }
 ],
 "metadata": {
  "kernelspec": {
   "display_name": "Python 3 (ipykernel)",
   "language": "python",
   "name": "python3"
  },
  "language_info": {
   "codemirror_mode": {
    "name": "ipython",
    "version": 3
   },
   "file_extension": ".py",
   "mimetype": "text/x-python",
   "name": "python",
   "nbconvert_exporter": "python",
   "pygments_lexer": "ipython3",
   "version": "3.10.9"
  }
 },
 "nbformat": 4,
 "nbformat_minor": 5
}
