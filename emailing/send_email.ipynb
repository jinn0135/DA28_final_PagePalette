{
 "cells": [
  {
   "cell_type": "code",
   "execution_count": 8,
   "id": "6b006851",
   "metadata": {},
   "outputs": [
    {
     "name": "stdout",
     "output_type": "stream",
     "text": [
      "news 메일발송 완료\n",
      "news & books 메일발송 완료\n"
     ]
    },
    {
     "data": {
      "text/html": [
       "<div>\n",
       "<style scoped>\n",
       "    .dataframe tbody tr th:only-of-type {\n",
       "        vertical-align: middle;\n",
       "    }\n",
       "\n",
       "    .dataframe tbody tr th {\n",
       "        vertical-align: top;\n",
       "    }\n",
       "\n",
       "    .dataframe thead th {\n",
       "        text-align: right;\n",
       "    }\n",
       "</style>\n",
       "<table border=\"1\" class=\"dataframe\">\n",
       "  <thead>\n",
       "    <tr style=\"text-align: right;\">\n",
       "      <th></th>\n",
       "      <th>email</th>\n",
       "      <th>gender</th>\n",
       "      <th>age</th>\n",
       "      <th>reception_time</th>\n",
       "      <th>weekend</th>\n",
       "      <th>book_service</th>\n",
       "      <th>large_category</th>\n",
       "      <th>middle_category</th>\n",
       "      <th>selected_book_isbn</th>\n",
       "    </tr>\n",
       "  </thead>\n",
       "  <tbody>\n",
       "    <tr>\n",
       "      <th>0</th>\n",
       "      <td>tutujin007@naver.com</td>\n",
       "      <td>female</td>\n",
       "      <td>20</td>\n",
       "      <td>0</td>\n",
       "      <td>1</td>\n",
       "      <td>0</td>\n",
       "      <td>None</td>\n",
       "      <td>None</td>\n",
       "      <td>None</td>\n",
       "    </tr>\n",
       "    <tr>\n",
       "      <th>1</th>\n",
       "      <td>tutujin3129@gmail.com</td>\n",
       "      <td>female</td>\n",
       "      <td>20</td>\n",
       "      <td>0</td>\n",
       "      <td>1</td>\n",
       "      <td>1</td>\n",
       "      <td>소설,소설,시에세이</td>\n",
       "      <td>영미소설,판타지소설,한국시</td>\n",
       "      <td>9788925554990,9788925576633,9791157956357</td>\n",
       "    </tr>\n",
       "    <tr>\n",
       "      <th>2</th>\n",
       "      <td>pagepallete@gmail.com</td>\n",
       "      <td>female</td>\n",
       "      <td>20</td>\n",
       "      <td>0</td>\n",
       "      <td>1</td>\n",
       "      <td>0</td>\n",
       "      <td>None</td>\n",
       "      <td>None</td>\n",
       "      <td>None</td>\n",
       "    </tr>\n",
       "    <tr>\n",
       "      <th>3</th>\n",
       "      <td>kyooon6248@naver.com</td>\n",
       "      <td>female</td>\n",
       "      <td>20</td>\n",
       "      <td>0</td>\n",
       "      <td>1</td>\n",
       "      <td>1</td>\n",
       "      <td>소설,인문</td>\n",
       "      <td>한국소설,철학</td>\n",
       "      <td>9791191891287,9788937834790</td>\n",
       "    </tr>\n",
       "    <tr>\n",
       "      <th>4</th>\n",
       "      <td>qkrdbdud98@naver.com</td>\n",
       "      <td>female</td>\n",
       "      <td>20</td>\n",
       "      <td>0</td>\n",
       "      <td>1</td>\n",
       "      <td>1</td>\n",
       "      <td>예술대중문화,예술대중문화</td>\n",
       "      <td>영화,음악</td>\n",
       "      <td>9788934942436,9788967212032</td>\n",
       "    </tr>\n",
       "  </tbody>\n",
       "</table>\n",
       "</div>"
      ],
      "text/plain": [
       "                   email  gender  age  reception_time  weekend  book_service  \\\n",
       "0   tutujin007@naver.com  female   20               0        1             0   \n",
       "1  tutujin3129@gmail.com  female   20               0        1             1   \n",
       "2  pagepallete@gmail.com  female   20               0        1             0   \n",
       "3   kyooon6248@naver.com  female   20               0        1             1   \n",
       "4   qkrdbdud98@naver.com  female   20               0        1             1   \n",
       "\n",
       "  large_category middle_category                         selected_book_isbn  \n",
       "0           None            None                                       None  \n",
       "1     소설,소설,시에세이  영미소설,판타지소설,한국시  9788925554990,9788925576633,9791157956357  \n",
       "2           None            None                                       None  \n",
       "3          소설,인문         한국소설,철학                9791191891287,9788937834790  \n",
       "4  예술대중문화,예술대중문화           영화,음악                9788934942436,9788967212032  "
      ]
     },
     "execution_count": 8,
     "metadata": {},
     "output_type": "execute_result"
    }
   ],
   "source": [
    "from send_email import RunService\n",
    "run = RunService()\n",
    "run('demo')\n",
    "run.user_df"
   ]
  },
  {
   "cell_type": "code",
   "execution_count": 9,
   "id": "f17270d2",
   "metadata": {},
   "outputs": [
    {
     "name": "stdout",
     "output_type": "stream",
     "text": [
      "news 메일발송 완료\n",
      "news & books 메일발송 완료\n"
     ]
    }
   ],
   "source": [
    "import pandas as pd\n",
    "run.user_df = pd.DataFrame({\n",
    "            'email':['qkrehdtla43@naver.com','qkrehdtla43@gmail.com'],\n",
    "            'gender':['female','female'], \n",
    "            'age':[20,20],\n",
    "            'reception_time':[0,0], 'weekend':[1,1],\n",
    "            'book_service':[0,1],\n",
    "            'large_category':[None,'소설,시에세이,인문'],\n",
    "            'middle_category':[None,'영미소설,테마에세이,철학'],\n",
    "            'selected_book_isbn':[None, '9791191248975,9788925563350,9791190238946']\n",
    "            })\n",
    "run('demo')"
   ]
  },
  {
   "cell_type": "code",
   "execution_count": null,
   "id": "31c7673c",
   "metadata": {},
   "outputs": [],
   "source": []
  }
 ],
 "metadata": {
  "kernelspec": {
   "display_name": "Python 3 (ipykernel)",
   "language": "python",
   "name": "python3"
  },
  "language_info": {
   "codemirror_mode": {
    "name": "ipython",
    "version": 3
   },
   "file_extension": ".py",
   "mimetype": "text/x-python",
   "name": "python",
   "nbconvert_exporter": "python",
   "pygments_lexer": "ipython3",
   "version": "3.11.4"
  }
 },
 "nbformat": 4,
 "nbformat_minor": 5
}
