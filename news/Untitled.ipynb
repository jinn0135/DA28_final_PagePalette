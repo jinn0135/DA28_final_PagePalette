{
 "cells": [
  {
   "cell_type": "code",
   "execution_count": 5,
   "id": "1588c96a",
   "metadata": {
    "ExecuteTime": {
     "end_time": "2023-06-27T07:25:39.830223Z",
     "start_time": "2023-06-27T07:25:39.817341Z"
    }
   },
   "outputs": [],
   "source": [
    "import ckonlpy\n",
    "from ckonlpy.tag import Twitter"
   ]
  },
  {
   "cell_type": "code",
   "execution_count": 6,
   "id": "89b1bdb8",
   "metadata": {
    "ExecuteTime": {
     "end_time": "2023-06-27T07:25:40.092930Z",
     "start_time": "2023-06-27T07:25:39.830223Z"
    }
   },
   "outputs": [],
   "source": [
    "twitter = Twitter()"
   ]
  },
  {
   "cell_type": "code",
   "execution_count": 9,
   "id": "2c886775",
   "metadata": {
    "ExecuteTime": {
     "end_time": "2023-06-27T07:26:44.396286Z",
     "start_time": "2023-06-27T07:26:44.381081Z"
    }
   },
   "outputs": [
    {
     "data": {
      "text/plain": [
       "['아이폰', '프로']"
      ]
     },
     "execution_count": 9,
     "metadata": {},
     "output_type": "execute_result"
    }
   ],
   "source": [
    "twitter.nouns('아이폰 프로')"
   ]
  },
  {
   "cell_type": "code",
   "execution_count": null,
   "id": "f71a0d75",
   "metadata": {},
   "outputs": [],
   "source": []
  }
 ],
 "metadata": {
  "kernelspec": {
   "display_name": "Python 3 (ipykernel)",
   "language": "python",
   "name": "python3"
  },
  "language_info": {
   "codemirror_mode": {
    "name": "ipython",
    "version": 3
   },
   "file_extension": ".py",
   "mimetype": "text/x-python",
   "name": "python",
   "nbconvert_exporter": "python",
   "pygments_lexer": "ipython3",
   "version": "3.10.9"
  },
  "toc": {
   "base_numbering": 1,
   "nav_menu": {},
   "number_sections": true,
   "sideBar": true,
   "skip_h1_title": false,
   "title_cell": "Table of Contents",
   "title_sidebar": "Contents",
   "toc_cell": false,
   "toc_position": {},
   "toc_section_display": true,
   "toc_window_display": false
  }
 },
 "nbformat": 4,
 "nbformat_minor": 5
}
