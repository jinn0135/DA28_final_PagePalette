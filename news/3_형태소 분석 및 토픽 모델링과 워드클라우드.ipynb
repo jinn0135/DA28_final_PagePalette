{
 "cells": [
  {
   "cell_type": "markdown",
   "id": "6c267d8b",
   "metadata": {},
   "source": [
    "# Import"
   ]
  },
  {
   "cell_type": "code",
   "execution_count": 1,
   "id": "d792f4da",
   "metadata": {
    "ExecuteTime": {
     "end_time": "2023-06-27T07:33:48.738463Z",
     "start_time": "2023-06-27T07:33:42.914221Z"
    }
   },
   "outputs": [],
   "source": [
    "# data handling\n",
    "import pandas as pd\n",
    "import matplotlib.pyplot as plt\n",
    "import numpy as np\n",
    "\n",
    "# time control\n",
    "from time import sleep\n",
    "from datetime import datetime\n",
    "\n",
    "# NLP\n",
    "import re\n",
    "import ckonlpy\n",
    "from ckonlpy.tag import Twitter\n",
    "import gensim\n",
    "from gensim import corpora\n",
    "from gensim.models import CoherenceModel\n",
    "from gensim.models import LdaModel\n",
    "from gensim.utils import simple_preprocess\n",
    "\n",
    "# NLP Visualization\n",
    "import pyLDAvis\n",
    "import pyLDAvis.gensim_models as gensimvis\n",
    "import wordcloud\n",
    "from wordcloud import WordCloud\n",
    "from PIL import Image\n",
    "import cv2\n",
    "\n",
    "# utils\n",
    "from news_words import get_addwords, get_stopwords\n",
    "from tqdm import tqdm\n",
    "\n",
    "import warnings\n",
    "warnings.simplefilter(action='ignore', category=DeprecationWarning)\n",
    "warnings.simplefilter(action='ignore', category=UserWarning)"
   ]
  },
  {
   "cell_type": "markdown",
   "id": "e414266e",
   "metadata": {},
   "source": [
    "# 데이터 불러오기"
   ]
  },
  {
   "cell_type": "code",
   "execution_count": 2,
   "id": "304f00ad",
   "metadata": {
    "ExecuteTime": {
     "end_time": "2023-06-27T07:33:48.797712Z",
     "start_time": "2023-06-27T07:33:48.738463Z"
    }
   },
   "outputs": [
    {
     "name": "stdout",
     "output_type": "stream",
     "text": [
      "230627\n"
     ]
    },
    {
     "data": {
      "text/html": [
       "<div>\n",
       "<style scoped>\n",
       "    .dataframe tbody tr th:only-of-type {\n",
       "        vertical-align: middle;\n",
       "    }\n",
       "\n",
       "    .dataframe tbody tr th {\n",
       "        vertical-align: top;\n",
       "    }\n",
       "\n",
       "    .dataframe thead th {\n",
       "        text-align: right;\n",
       "    }\n",
       "</style>\n",
       "<table border=\"1\" class=\"dataframe\">\n",
       "  <thead>\n",
       "    <tr style=\"text-align: right;\">\n",
       "      <th></th>\n",
       "      <th>URL</th>\n",
       "      <th>신문사</th>\n",
       "      <th>기자명</th>\n",
       "      <th>제목</th>\n",
       "      <th>본문</th>\n",
       "      <th>날짜</th>\n",
       "      <th>연</th>\n",
       "      <th>월</th>\n",
       "      <th>일</th>\n",
       "      <th>요일</th>\n",
       "    </tr>\n",
       "  </thead>\n",
       "  <tbody>\n",
       "    <tr>\n",
       "      <th>0</th>\n",
       "      <td>https://n.news.naver.com/mnews/article/277/000...</td>\n",
       "      <td>아시아경제</td>\n",
       "      <td>오수연</td>\n",
       "      <td>KT클라우드, '클라우드 기반 NPU 인프라' 상용화</td>\n",
       "      <td>초거대 인공지능(AI) 연구?개발을 위한 AI 반도체 인프라를 온라인 전용 포털에서...</td>\n",
       "      <td>2023-06-27</td>\n",
       "      <td>2023</td>\n",
       "      <td>6</td>\n",
       "      <td>27</td>\n",
       "      <td>1</td>\n",
       "    </tr>\n",
       "    <tr>\n",
       "      <th>1</th>\n",
       "      <td>https://n.news.naver.com/mnews/article/016/000...</td>\n",
       "      <td>헤럴드경제</td>\n",
       "      <td>김현일</td>\n",
       "      <td>네이버·카카오로도 SRT 승차권 예매·자동차 검사 예약한다</td>\n",
       "      <td>네이버 지도 앱(왼쪽)과 카카오 T 앱에서 SRT 예매하는 화면. [디지털플랫폼정부...</td>\n",
       "      <td>2023-06-26</td>\n",
       "      <td>2023</td>\n",
       "      <td>6</td>\n",
       "      <td>26</td>\n",
       "      <td>0</td>\n",
       "    </tr>\n",
       "    <tr>\n",
       "      <th>2</th>\n",
       "      <td>https://n.news.naver.com/mnews/article/018/000...</td>\n",
       "      <td>이데일리</td>\n",
       "      <td>함정선</td>\n",
       "      <td>SKT, 청년요금제 인기…신규·변경 고객 10명 중 7명 '선택'</td>\n",
       "      <td>만 19~34세 5G로 변경 청년 고객 73% 가입\\n연말까지 가입자 100만명 목...</td>\n",
       "      <td>2023-06-27</td>\n",
       "      <td>2023</td>\n",
       "      <td>6</td>\n",
       "      <td>27</td>\n",
       "      <td>1</td>\n",
       "    </tr>\n",
       "    <tr>\n",
       "      <th>3</th>\n",
       "      <td>https://n.news.naver.com/mnews/article/008/000...</td>\n",
       "      <td>머니투데이</td>\n",
       "      <td>류준영</td>\n",
       "      <td>박윤규 제2차관, '미래 유니콘' 15개 스타트업에 인증서 수여</td>\n",
       "      <td>'글로벌 ICT 미래 유니콘 육성사업' 선정 15개사 인증서 수여\\n박윤규 과학기술...</td>\n",
       "      <td>2023-06-27</td>\n",
       "      <td>2023</td>\n",
       "      <td>6</td>\n",
       "      <td>27</td>\n",
       "      <td>1</td>\n",
       "    </tr>\n",
       "    <tr>\n",
       "      <th>4</th>\n",
       "      <td>https://n.news.naver.com/mnews/article/030/000...</td>\n",
       "      <td>전자신문</td>\n",
       "      <td>정보없음</td>\n",
       "      <td>한글과컴퓨터, 포스코DX와 MOU 체결...“SDK 사업 확대 나선다”</td>\n",
       "      <td>한글과컴퓨터가 포스코DX와 인공지능(AI)기반 소프트웨어개발키트(SDK) 사업 확대...</td>\n",
       "      <td>2023-06-27</td>\n",
       "      <td>2023</td>\n",
       "      <td>6</td>\n",
       "      <td>27</td>\n",
       "      <td>1</td>\n",
       "    </tr>\n",
       "    <tr>\n",
       "      <th>...</th>\n",
       "      <td>...</td>\n",
       "      <td>...</td>\n",
       "      <td>...</td>\n",
       "      <td>...</td>\n",
       "      <td>...</td>\n",
       "      <td>...</td>\n",
       "      <td>...</td>\n",
       "      <td>...</td>\n",
       "      <td>...</td>\n",
       "      <td>...</td>\n",
       "    </tr>\n",
       "    <tr>\n",
       "      <th>203</th>\n",
       "      <td>https://n.news.naver.com/mnews/article/009/000...</td>\n",
       "      <td>매일경제</td>\n",
       "      <td>정보없음</td>\n",
       "      <td>컴투스홀딩스 야심작 ‘제노니아’, 국내 시장 흥행 ‘정조준’</td>\n",
       "      <td>27일 0시 정식 서비스 돌입…사전예약 200만 ‘기대감’\\n\\n\\n컴투스홀딩스의 ...</td>\n",
       "      <td>2023-06-26</td>\n",
       "      <td>2023</td>\n",
       "      <td>6</td>\n",
       "      <td>26</td>\n",
       "      <td>0</td>\n",
       "    </tr>\n",
       "    <tr>\n",
       "      <th>204</th>\n",
       "      <td>https://n.news.naver.com/mnews/article/008/000...</td>\n",
       "      <td>머니투데이</td>\n",
       "      <td>정보없음</td>\n",
       "      <td>디도스에 당한 디아블로, 12시간 '먹통'에 이용자들 폭발</td>\n",
       "      <td>[서울=뉴시스] 권창회 기자 = 디아블로4가 출시 5일 만에 전 세계 6억 6600...</td>\n",
       "      <td>2023-06-26</td>\n",
       "      <td>2023</td>\n",
       "      <td>6</td>\n",
       "      <td>26</td>\n",
       "      <td>0</td>\n",
       "    </tr>\n",
       "    <tr>\n",
       "      <th>205</th>\n",
       "      <td>https://n.news.naver.com/mnews/article/092/000...</td>\n",
       "      <td>ZDNet Korea</td>\n",
       "      <td>조성진</td>\n",
       "      <td>주요국 고강도 통화정책 행보…韓 7월 금통위 향방은?</td>\n",
       "      <td>이창용 총재, '금리인상' 가능성 시사…시장선 '동결' 점쳐\\n주요국 중앙은행이 고...</td>\n",
       "      <td>2023-06-26</td>\n",
       "      <td>2023</td>\n",
       "      <td>6</td>\n",
       "      <td>26</td>\n",
       "      <td>0</td>\n",
       "    </tr>\n",
       "    <tr>\n",
       "      <th>206</th>\n",
       "      <td>https://n.news.naver.com/mnews/article/366/000...</td>\n",
       "      <td>조선비즈</td>\n",
       "      <td>이종현</td>\n",
       "      <td>“양자기술은 산업의 게임 체인저”...전세계 양자 전문가·기업들 서울에 모였다</td>\n",
       "      <td>26일 국내 최대 양자기술 행사 ‘퀀텀 코리아 2023′ 개막\\n\\n26일 오후 서...</td>\n",
       "      <td>2023-06-26</td>\n",
       "      <td>2023</td>\n",
       "      <td>6</td>\n",
       "      <td>26</td>\n",
       "      <td>0</td>\n",
       "    </tr>\n",
       "    <tr>\n",
       "      <th>207</th>\n",
       "      <td>https://n.news.naver.com/mnews/article/092/000...</td>\n",
       "      <td>ZDNet Korea</td>\n",
       "      <td>이나리</td>\n",
       "      <td>솔루엠, '전기차 충전기∙LED 조명' 신사업 속도 낸다</td>\n",
       "      <td>산자부 '월드클래스 플러스' 기업 선정…연구 개발비 4년간 지원 받아\\n솔루엠이 산...</td>\n",
       "      <td>2023-06-26</td>\n",
       "      <td>2023</td>\n",
       "      <td>6</td>\n",
       "      <td>26</td>\n",
       "      <td>0</td>\n",
       "    </tr>\n",
       "  </tbody>\n",
       "</table>\n",
       "<p>208 rows × 10 columns</p>\n",
       "</div>"
      ],
      "text/plain": [
       "                                                   URL          신문사   기자명  \\\n",
       "0    https://n.news.naver.com/mnews/article/277/000...        아시아경제   오수연   \n",
       "1    https://n.news.naver.com/mnews/article/016/000...        헤럴드경제   김현일   \n",
       "2    https://n.news.naver.com/mnews/article/018/000...         이데일리   함정선   \n",
       "3    https://n.news.naver.com/mnews/article/008/000...        머니투데이   류준영   \n",
       "4    https://n.news.naver.com/mnews/article/030/000...         전자신문  정보없음   \n",
       "..                                                 ...          ...   ...   \n",
       "203  https://n.news.naver.com/mnews/article/009/000...         매일경제  정보없음   \n",
       "204  https://n.news.naver.com/mnews/article/008/000...        머니투데이  정보없음   \n",
       "205  https://n.news.naver.com/mnews/article/092/000...  ZDNet Korea   조성진   \n",
       "206  https://n.news.naver.com/mnews/article/366/000...         조선비즈   이종현   \n",
       "207  https://n.news.naver.com/mnews/article/092/000...  ZDNet Korea   이나리   \n",
       "\n",
       "                                              제목  \\\n",
       "0                  KT클라우드, '클라우드 기반 NPU 인프라' 상용화   \n",
       "1               네이버·카카오로도 SRT 승차권 예매·자동차 검사 예약한다   \n",
       "2           SKT, 청년요금제 인기…신규·변경 고객 10명 중 7명 '선택'   \n",
       "3            박윤규 제2차관, '미래 유니콘' 15개 스타트업에 인증서 수여   \n",
       "4        한글과컴퓨터, 포스코DX와 MOU 체결...“SDK 사업 확대 나선다”   \n",
       "..                                           ...   \n",
       "203            컴투스홀딩스 야심작 ‘제노니아’, 국내 시장 흥행 ‘정조준’   \n",
       "204             디도스에 당한 디아블로, 12시간 '먹통'에 이용자들 폭발   \n",
       "205                주요국 고강도 통화정책 행보…韓 7월 금통위 향방은?   \n",
       "206  “양자기술은 산업의 게임 체인저”...전세계 양자 전문가·기업들 서울에 모였다   \n",
       "207              솔루엠, '전기차 충전기∙LED 조명' 신사업 속도 낸다   \n",
       "\n",
       "                                                    본문          날짜     연  월  \\\n",
       "0    초거대 인공지능(AI) 연구?개발을 위한 AI 반도체 인프라를 온라인 전용 포털에서...  2023-06-27  2023  6   \n",
       "1    네이버 지도 앱(왼쪽)과 카카오 T 앱에서 SRT 예매하는 화면. [디지털플랫폼정부...  2023-06-26  2023  6   \n",
       "2    만 19~34세 5G로 변경 청년 고객 73% 가입\\n연말까지 가입자 100만명 목...  2023-06-27  2023  6   \n",
       "3    '글로벌 ICT 미래 유니콘 육성사업' 선정 15개사 인증서 수여\\n박윤규 과학기술...  2023-06-27  2023  6   \n",
       "4    한글과컴퓨터가 포스코DX와 인공지능(AI)기반 소프트웨어개발키트(SDK) 사업 확대...  2023-06-27  2023  6   \n",
       "..                                                 ...         ...   ... ..   \n",
       "203  27일 0시 정식 서비스 돌입…사전예약 200만 ‘기대감’\\n\\n\\n컴투스홀딩스의 ...  2023-06-26  2023  6   \n",
       "204  [서울=뉴시스] 권창회 기자 = 디아블로4가 출시 5일 만에 전 세계 6억 6600...  2023-06-26  2023  6   \n",
       "205  이창용 총재, '금리인상' 가능성 시사…시장선 '동결' 점쳐\\n주요국 중앙은행이 고...  2023-06-26  2023  6   \n",
       "206  26일 국내 최대 양자기술 행사 ‘퀀텀 코리아 2023′ 개막\\n\\n26일 오후 서...  2023-06-26  2023  6   \n",
       "207  산자부 '월드클래스 플러스' 기업 선정…연구 개발비 4년간 지원 받아\\n솔루엠이 산...  2023-06-26  2023  6   \n",
       "\n",
       "      일  요일  \n",
       "0    27   1  \n",
       "1    26   0  \n",
       "2    27   1  \n",
       "3    27   1  \n",
       "4    27   1  \n",
       "..   ..  ..  \n",
       "203  26   0  \n",
       "204  26   0  \n",
       "205  26   0  \n",
       "206  26   0  \n",
       "207  26   0  \n",
       "\n",
       "[208 rows x 10 columns]"
      ]
     },
     "execution_count": 2,
     "metadata": {},
     "output_type": "execute_result"
    }
   ],
   "source": [
    "# 오늘 날짜를 YYMMDD의 string형태로 저장\n",
    "today = datetime.today().strftime(\"%y%m%d\")\n",
    "print(today)\n",
    "df = pd.read_csv('./df_'+today+'.csv')\n",
    "df"
   ]
  },
  {
   "cell_type": "code",
   "execution_count": 3,
   "id": "af68181d",
   "metadata": {
    "ExecuteTime": {
     "end_time": "2023-06-27T07:33:48.866545Z",
     "start_time": "2023-06-27T07:33:48.800799Z"
    }
   },
   "outputs": [
    {
     "data": {
      "text/html": [
       "<div>\n",
       "<style scoped>\n",
       "    .dataframe tbody tr th:only-of-type {\n",
       "        vertical-align: middle;\n",
       "    }\n",
       "\n",
       "    .dataframe tbody tr th {\n",
       "        vertical-align: top;\n",
       "    }\n",
       "\n",
       "    .dataframe thead th {\n",
       "        text-align: right;\n",
       "    }\n",
       "</style>\n",
       "<table border=\"1\" class=\"dataframe\">\n",
       "  <thead>\n",
       "    <tr style=\"text-align: right;\">\n",
       "      <th></th>\n",
       "      <th>URL</th>\n",
       "      <th>신문사</th>\n",
       "      <th>기자명</th>\n",
       "      <th>제목</th>\n",
       "      <th>본문</th>\n",
       "      <th>날짜</th>\n",
       "      <th>연</th>\n",
       "      <th>월</th>\n",
       "      <th>일</th>\n",
       "      <th>요일</th>\n",
       "    </tr>\n",
       "  </thead>\n",
       "  <tbody>\n",
       "    <tr>\n",
       "      <th>0</th>\n",
       "      <td>https://n.news.naver.com/mnews/article/277/000...</td>\n",
       "      <td>아시아경제</td>\n",
       "      <td>오수연</td>\n",
       "      <td>KT클라우드, '클라우드 기반 NPU 인프라' 상용화</td>\n",
       "      <td>초거대 인공지능(AI) 연구?개발을 위한 AI 반도체 인프라를 온라인 전용 포털에서...</td>\n",
       "      <td>2023-06-27</td>\n",
       "      <td>2023</td>\n",
       "      <td>6</td>\n",
       "      <td>27</td>\n",
       "      <td>1</td>\n",
       "    </tr>\n",
       "    <tr>\n",
       "      <th>1</th>\n",
       "      <td>https://n.news.naver.com/mnews/article/016/000...</td>\n",
       "      <td>헤럴드경제</td>\n",
       "      <td>김현일</td>\n",
       "      <td>네이버·카카오로도 SRT 승차권 예매·자동차 검사 예약한다</td>\n",
       "      <td>네이버 지도 앱(왼쪽)과 카카오 T 앱에서 SRT 예매하는 화면. [디지털플랫폼정부...</td>\n",
       "      <td>2023-06-26</td>\n",
       "      <td>2023</td>\n",
       "      <td>6</td>\n",
       "      <td>26</td>\n",
       "      <td>0</td>\n",
       "    </tr>\n",
       "    <tr>\n",
       "      <th>2</th>\n",
       "      <td>https://n.news.naver.com/mnews/article/018/000...</td>\n",
       "      <td>이데일리</td>\n",
       "      <td>함정선</td>\n",
       "      <td>SKT, 청년요금제 인기…신규·변경 고객 10명 중 7명 '선택'</td>\n",
       "      <td>만 19~34세 5G로 변경 청년 고객 73% 가입\\n연말까지 가입자 100만명 목...</td>\n",
       "      <td>2023-06-27</td>\n",
       "      <td>2023</td>\n",
       "      <td>6</td>\n",
       "      <td>27</td>\n",
       "      <td>1</td>\n",
       "    </tr>\n",
       "    <tr>\n",
       "      <th>3</th>\n",
       "      <td>https://n.news.naver.com/mnews/article/008/000...</td>\n",
       "      <td>머니투데이</td>\n",
       "      <td>류준영</td>\n",
       "      <td>박윤규 제2차관, '미래 유니콘' 15개 스타트업에 인증서 수여</td>\n",
       "      <td>'글로벌 ICT 미래 유니콘 육성사업' 선정 15개사 인증서 수여\\n박윤규 과학기술...</td>\n",
       "      <td>2023-06-27</td>\n",
       "      <td>2023</td>\n",
       "      <td>6</td>\n",
       "      <td>27</td>\n",
       "      <td>1</td>\n",
       "    </tr>\n",
       "    <tr>\n",
       "      <th>4</th>\n",
       "      <td>https://n.news.naver.com/mnews/article/030/000...</td>\n",
       "      <td>전자신문</td>\n",
       "      <td>정보없음</td>\n",
       "      <td>한글과컴퓨터, 포스코DX와 MOU 체결...“SDK 사업 확대 나선다”</td>\n",
       "      <td>한글과컴퓨터가 포스코DX와 인공지능(AI)기반 소프트웨어개발키트(SDK) 사업 확대...</td>\n",
       "      <td>2023-06-27</td>\n",
       "      <td>2023</td>\n",
       "      <td>6</td>\n",
       "      <td>27</td>\n",
       "      <td>1</td>\n",
       "    </tr>\n",
       "    <tr>\n",
       "      <th>...</th>\n",
       "      <td>...</td>\n",
       "      <td>...</td>\n",
       "      <td>...</td>\n",
       "      <td>...</td>\n",
       "      <td>...</td>\n",
       "      <td>...</td>\n",
       "      <td>...</td>\n",
       "      <td>...</td>\n",
       "      <td>...</td>\n",
       "      <td>...</td>\n",
       "    </tr>\n",
       "    <tr>\n",
       "      <th>1033</th>\n",
       "      <td>https://v.daum.net/v/20230627043302905</td>\n",
       "      <td>한국경제</td>\n",
       "      <td>최진석</td>\n",
       "      <td>구글 전 CEO 에릭 슈밋의 경고…\"AI 거짓정보로 내년 미국 대선 혼탁해질 것\"</td>\n",
       "      <td>사진=한경DB\\n에릭 슈밋 구글 전 최고경영자(CEO)가 생성 인공지능(AI)에 의...</td>\n",
       "      <td>2023-06-27</td>\n",
       "      <td>2023</td>\n",
       "      <td>6</td>\n",
       "      <td>27</td>\n",
       "      <td>1</td>\n",
       "    </tr>\n",
       "    <tr>\n",
       "      <th>1034</th>\n",
       "      <td>https://v.daum.net/v/20230627041002837</td>\n",
       "      <td>한국경제</td>\n",
       "      <td>최진석</td>\n",
       "      <td>소프트웨어 회사로 변모하는 IBM…46억달러에 앱티오 인수</td>\n",
       "      <td>IBM이 소프트웨어 개발사 앱티오를 46억달러(6조원)에 인수한다고 26일(현지시간...</td>\n",
       "      <td>2023-06-27</td>\n",
       "      <td>2023</td>\n",
       "      <td>6</td>\n",
       "      <td>27</td>\n",
       "      <td>1</td>\n",
       "    </tr>\n",
       "    <tr>\n",
       "      <th>1035</th>\n",
       "      <td>https://v.daum.net/v/20230627024002378</td>\n",
       "      <td>한국경제</td>\n",
       "      <td>최진석</td>\n",
       "      <td>‘메타버스 대중화’ 돌파구 찾는 메타…'VR 구독 서비스' 출시</td>\n",
       "      <td>월 7.99달러 내면 매월 새로운 게임 2개 제공\\n메타 VR 기기, 퀘스트 충성고...</td>\n",
       "      <td>2023-06-27</td>\n",
       "      <td>2023</td>\n",
       "      <td>6</td>\n",
       "      <td>27</td>\n",
       "      <td>1</td>\n",
       "    </tr>\n",
       "    <tr>\n",
       "      <th>1036</th>\n",
       "      <td>https://v.daum.net/v/20230627011954198</td>\n",
       "      <td>중앙일보</td>\n",
       "      <td>입력</td>\n",
       "      <td>[사진] 국내 첫 로봇 지휘자 “내 손을 보세요”</td>\n",
       "      <td>국내 첫 로봇 지휘자 “내 손을 보세요”\\n지휘하는 로봇 ‘에버(EveR)6’가 2...</td>\n",
       "      <td>2023-06-27</td>\n",
       "      <td>2023</td>\n",
       "      <td>6</td>\n",
       "      <td>27</td>\n",
       "      <td>1</td>\n",
       "    </tr>\n",
       "    <tr>\n",
       "      <th>1037</th>\n",
       "      <td>https://v.daum.net/v/20230627000250726</td>\n",
       "      <td>중앙일보</td>\n",
       "      <td>입력</td>\n",
       "      <td>[사진] 파티에 제격, 포터블 스피커</td>\n",
       "      <td>파티에 제격, 포터블 스피커\\nLG전자가 내장 배터리를 탑재한 포터블 파티 스피커 ...</td>\n",
       "      <td>2023-06-27</td>\n",
       "      <td>2023</td>\n",
       "      <td>6</td>\n",
       "      <td>27</td>\n",
       "      <td>1</td>\n",
       "    </tr>\n",
       "  </tbody>\n",
       "</table>\n",
       "<p>1038 rows × 10 columns</p>\n",
       "</div>"
      ],
      "text/plain": [
       "                                                    URL    신문사   기자명  \\\n",
       "0     https://n.news.naver.com/mnews/article/277/000...  아시아경제   오수연   \n",
       "1     https://n.news.naver.com/mnews/article/016/000...  헤럴드경제   김현일   \n",
       "2     https://n.news.naver.com/mnews/article/018/000...   이데일리   함정선   \n",
       "3     https://n.news.naver.com/mnews/article/008/000...  머니투데이   류준영   \n",
       "4     https://n.news.naver.com/mnews/article/030/000...   전자신문  정보없음   \n",
       "...                                                 ...    ...   ...   \n",
       "1033             https://v.daum.net/v/20230627043302905   한국경제   최진석   \n",
       "1034             https://v.daum.net/v/20230627041002837   한국경제   최진석   \n",
       "1035             https://v.daum.net/v/20230627024002378   한국경제   최진석   \n",
       "1036             https://v.daum.net/v/20230627011954198   중앙일보    입력   \n",
       "1037             https://v.daum.net/v/20230627000250726   중앙일보    입력   \n",
       "\n",
       "                                                 제목  \\\n",
       "0                     KT클라우드, '클라우드 기반 NPU 인프라' 상용화   \n",
       "1                  네이버·카카오로도 SRT 승차권 예매·자동차 검사 예약한다   \n",
       "2              SKT, 청년요금제 인기…신규·변경 고객 10명 중 7명 '선택'   \n",
       "3               박윤규 제2차관, '미래 유니콘' 15개 스타트업에 인증서 수여   \n",
       "4           한글과컴퓨터, 포스코DX와 MOU 체결...“SDK 사업 확대 나선다”   \n",
       "...                                             ...   \n",
       "1033  구글 전 CEO 에릭 슈밋의 경고…\"AI 거짓정보로 내년 미국 대선 혼탁해질 것\"   \n",
       "1034               소프트웨어 회사로 변모하는 IBM…46억달러에 앱티오 인수   \n",
       "1035            ‘메타버스 대중화’ 돌파구 찾는 메타…'VR 구독 서비스' 출시   \n",
       "1036                    [사진] 국내 첫 로봇 지휘자 “내 손을 보세요”   \n",
       "1037                           [사진] 파티에 제격, 포터블 스피커   \n",
       "\n",
       "                                                     본문          날짜     연  월  \\\n",
       "0     초거대 인공지능(AI) 연구?개발을 위한 AI 반도체 인프라를 온라인 전용 포털에서...  2023-06-27  2023  6   \n",
       "1     네이버 지도 앱(왼쪽)과 카카오 T 앱에서 SRT 예매하는 화면. [디지털플랫폼정부...  2023-06-26  2023  6   \n",
       "2     만 19~34세 5G로 변경 청년 고객 73% 가입\\n연말까지 가입자 100만명 목...  2023-06-27  2023  6   \n",
       "3     '글로벌 ICT 미래 유니콘 육성사업' 선정 15개사 인증서 수여\\n박윤규 과학기술...  2023-06-27  2023  6   \n",
       "4     한글과컴퓨터가 포스코DX와 인공지능(AI)기반 소프트웨어개발키트(SDK) 사업 확대...  2023-06-27  2023  6   \n",
       "...                                                 ...         ...   ... ..   \n",
       "1033  사진=한경DB\\n에릭 슈밋 구글 전 최고경영자(CEO)가 생성 인공지능(AI)에 의...  2023-06-27  2023  6   \n",
       "1034  IBM이 소프트웨어 개발사 앱티오를 46억달러(6조원)에 인수한다고 26일(현지시간...  2023-06-27  2023  6   \n",
       "1035  월 7.99달러 내면 매월 새로운 게임 2개 제공\\n메타 VR 기기, 퀘스트 충성고...  2023-06-27  2023  6   \n",
       "1036  국내 첫 로봇 지휘자 “내 손을 보세요”\\n지휘하는 로봇 ‘에버(EveR)6’가 2...  2023-06-27  2023  6   \n",
       "1037  파티에 제격, 포터블 스피커\\nLG전자가 내장 배터리를 탑재한 포터블 파티 스피커 ...  2023-06-27  2023  6   \n",
       "\n",
       "       일  요일  \n",
       "0     27   1  \n",
       "1     26   0  \n",
       "2     27   1  \n",
       "3     27   1  \n",
       "4     27   1  \n",
       "...   ..  ..  \n",
       "1033  27   1  \n",
       "1034  27   1  \n",
       "1035  27   1  \n",
       "1036  27   1  \n",
       "1037  27   1  \n",
       "\n",
       "[1038 rows x 10 columns]"
      ]
     },
     "execution_count": 3,
     "metadata": {},
     "output_type": "execute_result"
    }
   ],
   "source": [
    "# 유영 스크랩 csv를 합친다면\n",
    "df = pd.concat([df, pd.read_csv('./20230626_20230627_news.csv')])\n",
    "df = df.drop_duplicates(['제목'])\n",
    "df = df.reset_index(drop=True)\n",
    "df"
   ]
  },
  {
   "cell_type": "markdown",
   "id": "15ec58b0",
   "metadata": {
    "ExecuteTime": {
     "end_time": "2023-06-20T02:42:29.086786Z",
     "start_time": "2023-06-20T02:42:29.077180Z"
    }
   },
   "source": [
    "# 전처리"
   ]
  },
  {
   "cell_type": "code",
   "execution_count": 4,
   "id": "5aa519a0",
   "metadata": {
    "ExecuteTime": {
     "end_time": "2023-06-27T07:34:23.824459Z",
     "start_time": "2023-06-27T07:33:48.868545Z"
    },
    "scrolled": false
   },
   "outputs": [
    {
     "name": "stderr",
     "output_type": "stream",
     "text": [
      "100%|██████████| 1038/1038 [00:31<00:00, 32.85it/s]\n"
     ]
    },
    {
     "name": "stdout",
     "output_type": "stream",
     "text": [
      "전처리 전 :\n",
      "**************************************************\n"
     ]
    },
    {
     "data": {
      "text/html": [
       "<div>\n",
       "<style scoped>\n",
       "    .dataframe tbody tr th:only-of-type {\n",
       "        vertical-align: middle;\n",
       "    }\n",
       "\n",
       "    .dataframe tbody tr th {\n",
       "        vertical-align: top;\n",
       "    }\n",
       "\n",
       "    .dataframe thead th {\n",
       "        text-align: right;\n",
       "    }\n",
       "</style>\n",
       "<table border=\"1\" class=\"dataframe\">\n",
       "  <thead>\n",
       "    <tr style=\"text-align: right;\">\n",
       "      <th></th>\n",
       "      <th>URL</th>\n",
       "      <th>신문사</th>\n",
       "      <th>기자명</th>\n",
       "      <th>제목</th>\n",
       "      <th>본문</th>\n",
       "      <th>날짜</th>\n",
       "      <th>연</th>\n",
       "      <th>월</th>\n",
       "      <th>일</th>\n",
       "      <th>요일</th>\n",
       "    </tr>\n",
       "  </thead>\n",
       "  <tbody>\n",
       "    <tr>\n",
       "      <th>0</th>\n",
       "      <td>https://n.news.naver.com/mnews/article/277/000...</td>\n",
       "      <td>아시아경제</td>\n",
       "      <td>오수연</td>\n",
       "      <td>KT클라우드, '클라우드 기반 NPU 인프라' 상용화</td>\n",
       "      <td>초거대 인공지능(AI) 연구?개발을 위한 AI 반도체 인프라를 온라인 전용 포털에서...</td>\n",
       "      <td>2023-06-27</td>\n",
       "      <td>2023</td>\n",
       "      <td>6</td>\n",
       "      <td>27</td>\n",
       "      <td>1</td>\n",
       "    </tr>\n",
       "    <tr>\n",
       "      <th>1</th>\n",
       "      <td>https://n.news.naver.com/mnews/article/016/000...</td>\n",
       "      <td>헤럴드경제</td>\n",
       "      <td>김현일</td>\n",
       "      <td>네이버·카카오로도 SRT 승차권 예매·자동차 검사 예약한다</td>\n",
       "      <td>네이버 지도 앱(왼쪽)과 카카오 T 앱에서 SRT 예매하는 화면. [디지털플랫폼정부...</td>\n",
       "      <td>2023-06-26</td>\n",
       "      <td>2023</td>\n",
       "      <td>6</td>\n",
       "      <td>26</td>\n",
       "      <td>0</td>\n",
       "    </tr>\n",
       "    <tr>\n",
       "      <th>2</th>\n",
       "      <td>https://n.news.naver.com/mnews/article/018/000...</td>\n",
       "      <td>이데일리</td>\n",
       "      <td>함정선</td>\n",
       "      <td>SKT, 청년요금제 인기…신규·변경 고객 10명 중 7명 '선택'</td>\n",
       "      <td>만 19~34세 5G로 변경 청년 고객 73% 가입\\n연말까지 가입자 100만명 목...</td>\n",
       "      <td>2023-06-27</td>\n",
       "      <td>2023</td>\n",
       "      <td>6</td>\n",
       "      <td>27</td>\n",
       "      <td>1</td>\n",
       "    </tr>\n",
       "  </tbody>\n",
       "</table>\n",
       "</div>"
      ],
      "text/plain": [
       "                                                 URL    신문사  기자명  \\\n",
       "0  https://n.news.naver.com/mnews/article/277/000...  아시아경제  오수연   \n",
       "1  https://n.news.naver.com/mnews/article/016/000...  헤럴드경제  김현일   \n",
       "2  https://n.news.naver.com/mnews/article/018/000...   이데일리  함정선   \n",
       "\n",
       "                                     제목  \\\n",
       "0         KT클라우드, '클라우드 기반 NPU 인프라' 상용화   \n",
       "1      네이버·카카오로도 SRT 승차권 예매·자동차 검사 예약한다   \n",
       "2  SKT, 청년요금제 인기…신규·변경 고객 10명 중 7명 '선택'   \n",
       "\n",
       "                                                  본문          날짜     연  월   일  \\\n",
       "0  초거대 인공지능(AI) 연구?개발을 위한 AI 반도체 인프라를 온라인 전용 포털에서...  2023-06-27  2023  6  27   \n",
       "1  네이버 지도 앱(왼쪽)과 카카오 T 앱에서 SRT 예매하는 화면. [디지털플랫폼정부...  2023-06-26  2023  6  26   \n",
       "2  만 19~34세 5G로 변경 청년 고객 73% 가입\\n연말까지 가입자 100만명 목...  2023-06-27  2023  6  27   \n",
       "\n",
       "   요일  \n",
       "0   1  \n",
       "1   0  \n",
       "2   1  "
      ]
     },
     "metadata": {},
     "output_type": "display_data"
    },
    {
     "data": {
      "text/html": [
       "<div>\n",
       "<style scoped>\n",
       "    .dataframe tbody tr th:only-of-type {\n",
       "        vertical-align: middle;\n",
       "    }\n",
       "\n",
       "    .dataframe tbody tr th {\n",
       "        vertical-align: top;\n",
       "    }\n",
       "\n",
       "    .dataframe thead th {\n",
       "        text-align: right;\n",
       "    }\n",
       "</style>\n",
       "<table border=\"1\" class=\"dataframe\">\n",
       "  <thead>\n",
       "    <tr style=\"text-align: right;\">\n",
       "      <th></th>\n",
       "      <th>URL</th>\n",
       "      <th>신문사</th>\n",
       "      <th>기자명</th>\n",
       "      <th>제목</th>\n",
       "      <th>본문</th>\n",
       "      <th>날짜</th>\n",
       "      <th>연</th>\n",
       "      <th>월</th>\n",
       "      <th>일</th>\n",
       "      <th>요일</th>\n",
       "    </tr>\n",
       "  </thead>\n",
       "  <tbody>\n",
       "    <tr>\n",
       "      <th>1035</th>\n",
       "      <td>https://v.daum.net/v/20230627024002378</td>\n",
       "      <td>한국경제</td>\n",
       "      <td>최진석</td>\n",
       "      <td>‘메타버스 대중화’ 돌파구 찾는 메타…'VR 구독 서비스' 출시</td>\n",
       "      <td>월 7.99달러 내면 매월 새로운 게임 2개 제공\\n메타 VR 기기, 퀘스트 충성고...</td>\n",
       "      <td>2023-06-27</td>\n",
       "      <td>2023</td>\n",
       "      <td>6</td>\n",
       "      <td>27</td>\n",
       "      <td>1</td>\n",
       "    </tr>\n",
       "    <tr>\n",
       "      <th>1036</th>\n",
       "      <td>https://v.daum.net/v/20230627011954198</td>\n",
       "      <td>중앙일보</td>\n",
       "      <td>입력</td>\n",
       "      <td>[사진] 국내 첫 로봇 지휘자 “내 손을 보세요”</td>\n",
       "      <td>국내 첫 로봇 지휘자 “내 손을 보세요”\\n지휘하는 로봇 ‘에버(EveR)6’가 2...</td>\n",
       "      <td>2023-06-27</td>\n",
       "      <td>2023</td>\n",
       "      <td>6</td>\n",
       "      <td>27</td>\n",
       "      <td>1</td>\n",
       "    </tr>\n",
       "    <tr>\n",
       "      <th>1037</th>\n",
       "      <td>https://v.daum.net/v/20230627000250726</td>\n",
       "      <td>중앙일보</td>\n",
       "      <td>입력</td>\n",
       "      <td>[사진] 파티에 제격, 포터블 스피커</td>\n",
       "      <td>파티에 제격, 포터블 스피커\\nLG전자가 내장 배터리를 탑재한 포터블 파티 스피커 ...</td>\n",
       "      <td>2023-06-27</td>\n",
       "      <td>2023</td>\n",
       "      <td>6</td>\n",
       "      <td>27</td>\n",
       "      <td>1</td>\n",
       "    </tr>\n",
       "  </tbody>\n",
       "</table>\n",
       "</div>"
      ],
      "text/plain": [
       "                                         URL   신문사  기자명  \\\n",
       "1035  https://v.daum.net/v/20230627024002378  한국경제  최진석   \n",
       "1036  https://v.daum.net/v/20230627011954198  중앙일보   입력   \n",
       "1037  https://v.daum.net/v/20230627000250726  중앙일보   입력   \n",
       "\n",
       "                                       제목  \\\n",
       "1035  ‘메타버스 대중화’ 돌파구 찾는 메타…'VR 구독 서비스' 출시   \n",
       "1036          [사진] 국내 첫 로봇 지휘자 “내 손을 보세요”   \n",
       "1037                 [사진] 파티에 제격, 포터블 스피커   \n",
       "\n",
       "                                                     본문          날짜     연  월  \\\n",
       "1035  월 7.99달러 내면 매월 새로운 게임 2개 제공\\n메타 VR 기기, 퀘스트 충성고...  2023-06-27  2023  6   \n",
       "1036  국내 첫 로봇 지휘자 “내 손을 보세요”\\n지휘하는 로봇 ‘에버(EveR)6’가 2...  2023-06-27  2023  6   \n",
       "1037  파티에 제격, 포터블 스피커\\nLG전자가 내장 배터리를 탑재한 포터블 파티 스피커 ...  2023-06-27  2023  6   \n",
       "\n",
       "       일  요일  \n",
       "1035  27   1  \n",
       "1036  27   1  \n",
       "1037  27   1  "
      ]
     },
     "metadata": {},
     "output_type": "display_data"
    },
    {
     "name": "stdout",
     "output_type": "stream",
     "text": [
      "\n",
      "\n",
      "\n",
      "전처리 후 :\n",
      "**************************************************\n"
     ]
    },
    {
     "data": {
      "text/html": [
       "<div>\n",
       "<style scoped>\n",
       "    .dataframe tbody tr th:only-of-type {\n",
       "        vertical-align: middle;\n",
       "    }\n",
       "\n",
       "    .dataframe tbody tr th {\n",
       "        vertical-align: top;\n",
       "    }\n",
       "\n",
       "    .dataframe thead th {\n",
       "        text-align: right;\n",
       "    }\n",
       "</style>\n",
       "<table border=\"1\" class=\"dataframe\">\n",
       "  <thead>\n",
       "    <tr style=\"text-align: right;\">\n",
       "      <th></th>\n",
       "      <th>URL</th>\n",
       "      <th>신문사</th>\n",
       "      <th>기자명</th>\n",
       "      <th>제목</th>\n",
       "      <th>본문</th>\n",
       "      <th>날짜</th>\n",
       "      <th>연</th>\n",
       "      <th>월</th>\n",
       "      <th>일</th>\n",
       "      <th>요일</th>\n",
       "    </tr>\n",
       "  </thead>\n",
       "  <tbody>\n",
       "    <tr>\n",
       "      <th>0</th>\n",
       "      <td>https://n.news.naver.com/mnews/article/277/000...</td>\n",
       "      <td>아시아경제</td>\n",
       "      <td>오수연</td>\n",
       "      <td>KT클라우드, '클라우드 기반 NPU 인프라' 상용화</td>\n",
       "      <td>거대 인공지능 AI 연구 개발 AI 반도체 인프라 온라인 전용 포털 클릭 번만 이용...</td>\n",
       "      <td>2023-06-27</td>\n",
       "      <td>2023</td>\n",
       "      <td>6</td>\n",
       "      <td>27</td>\n",
       "      <td>1</td>\n",
       "    </tr>\n",
       "    <tr>\n",
       "      <th>1</th>\n",
       "      <td>https://n.news.naver.com/mnews/article/016/000...</td>\n",
       "      <td>헤럴드경제</td>\n",
       "      <td>김현일</td>\n",
       "      <td>네이버·카카오로도 SRT 승차권 예매·자동차 검사 예약한다</td>\n",
       "      <td>네이버 지도 왼쪽 카카오 매하 화면 디지털 플랫폼 정부위원 헤럴드경제 김현 일부 네...</td>\n",
       "      <td>2023-06-26</td>\n",
       "      <td>2023</td>\n",
       "      <td>6</td>\n",
       "      <td>26</td>\n",
       "      <td>0</td>\n",
       "    </tr>\n",
       "    <tr>\n",
       "      <th>2</th>\n",
       "      <td>https://n.news.naver.com/mnews/article/018/000...</td>\n",
       "      <td>이데일리</td>\n",
       "      <td>함정선</td>\n",
       "      <td>SKT, 청년요금제 인기…신규·변경 고객 10명 중 7명 '선택'</td>\n",
       "      <td>5G 변경 청년 고객 가입 연말 가입자 목표 이데일리 함정 SK 텔레콤 이하 5G ...</td>\n",
       "      <td>2023-06-27</td>\n",
       "      <td>2023</td>\n",
       "      <td>6</td>\n",
       "      <td>27</td>\n",
       "      <td>1</td>\n",
       "    </tr>\n",
       "  </tbody>\n",
       "</table>\n",
       "</div>"
      ],
      "text/plain": [
       "                                                 URL    신문사  기자명  \\\n",
       "0  https://n.news.naver.com/mnews/article/277/000...  아시아경제  오수연   \n",
       "1  https://n.news.naver.com/mnews/article/016/000...  헤럴드경제  김현일   \n",
       "2  https://n.news.naver.com/mnews/article/018/000...   이데일리  함정선   \n",
       "\n",
       "                                     제목  \\\n",
       "0         KT클라우드, '클라우드 기반 NPU 인프라' 상용화   \n",
       "1      네이버·카카오로도 SRT 승차권 예매·자동차 검사 예약한다   \n",
       "2  SKT, 청년요금제 인기…신규·변경 고객 10명 중 7명 '선택'   \n",
       "\n",
       "                                                  본문          날짜     연  월   일  \\\n",
       "0  거대 인공지능 AI 연구 개발 AI 반도체 인프라 온라인 전용 포털 클릭 번만 이용...  2023-06-27  2023  6  27   \n",
       "1  네이버 지도 왼쪽 카카오 매하 화면 디지털 플랫폼 정부위원 헤럴드경제 김현 일부 네...  2023-06-26  2023  6  26   \n",
       "2  5G 변경 청년 고객 가입 연말 가입자 목표 이데일리 함정 SK 텔레콤 이하 5G ...  2023-06-27  2023  6  27   \n",
       "\n",
       "   요일  \n",
       "0   1  \n",
       "1   0  \n",
       "2   1  "
      ]
     },
     "metadata": {},
     "output_type": "display_data"
    },
    {
     "data": {
      "text/html": [
       "<div>\n",
       "<style scoped>\n",
       "    .dataframe tbody tr th:only-of-type {\n",
       "        vertical-align: middle;\n",
       "    }\n",
       "\n",
       "    .dataframe tbody tr th {\n",
       "        vertical-align: top;\n",
       "    }\n",
       "\n",
       "    .dataframe thead th {\n",
       "        text-align: right;\n",
       "    }\n",
       "</style>\n",
       "<table border=\"1\" class=\"dataframe\">\n",
       "  <thead>\n",
       "    <tr style=\"text-align: right;\">\n",
       "      <th></th>\n",
       "      <th>URL</th>\n",
       "      <th>신문사</th>\n",
       "      <th>기자명</th>\n",
       "      <th>제목</th>\n",
       "      <th>본문</th>\n",
       "      <th>날짜</th>\n",
       "      <th>연</th>\n",
       "      <th>월</th>\n",
       "      <th>일</th>\n",
       "      <th>요일</th>\n",
       "    </tr>\n",
       "  </thead>\n",
       "  <tbody>\n",
       "    <tr>\n",
       "      <th>1035</th>\n",
       "      <td>https://v.daum.net/v/20230627024002378</td>\n",
       "      <td>한국경제</td>\n",
       "      <td>최진석</td>\n",
       "      <td>‘메타버스 대중화’ 돌파구 찾는 메타…'VR 구독 서비스' 출시</td>\n",
       "      <td>달러 내면 매월 게임 메타 VR 기기 퀘스트 충성 고객 확대 겨냥 메타버스 대중화 ...</td>\n",
       "      <td>2023-06-27</td>\n",
       "      <td>2023</td>\n",
       "      <td>6</td>\n",
       "      <td>27</td>\n",
       "      <td>1</td>\n",
       "    </tr>\n",
       "    <tr>\n",
       "      <th>1036</th>\n",
       "      <td>https://v.daum.net/v/20230627011954198</td>\n",
       "      <td>중앙일보</td>\n",
       "      <td>입력</td>\n",
       "      <td>[사진] 국내 첫 로봇 지휘자 “내 손을 보세요”</td>\n",
       "      <td>국내 로봇 지휘자 요지 휘하 로봇 에버 오후 서울 중구 국립극장 오름 극장 다흐 빌...</td>\n",
       "      <td>2023-06-27</td>\n",
       "      <td>2023</td>\n",
       "      <td>6</td>\n",
       "      <td>27</td>\n",
       "      <td>1</td>\n",
       "    </tr>\n",
       "    <tr>\n",
       "      <th>1037</th>\n",
       "      <td>https://v.daum.net/v/20230627000250726</td>\n",
       "      <td>중앙일보</td>\n",
       "      <td>입력</td>\n",
       "      <td>[사진] 파티에 제격, 포터블 스피커</td>\n",
       "      <td>파티 제격 포터블 스피커 LG전자 내장 배터리 탑재 포터블 파티 스피커 LG 엑스 ...</td>\n",
       "      <td>2023-06-27</td>\n",
       "      <td>2023</td>\n",
       "      <td>6</td>\n",
       "      <td>27</td>\n",
       "      <td>1</td>\n",
       "    </tr>\n",
       "  </tbody>\n",
       "</table>\n",
       "</div>"
      ],
      "text/plain": [
       "                                         URL   신문사  기자명  \\\n",
       "1035  https://v.daum.net/v/20230627024002378  한국경제  최진석   \n",
       "1036  https://v.daum.net/v/20230627011954198  중앙일보   입력   \n",
       "1037  https://v.daum.net/v/20230627000250726  중앙일보   입력   \n",
       "\n",
       "                                       제목  \\\n",
       "1035  ‘메타버스 대중화’ 돌파구 찾는 메타…'VR 구독 서비스' 출시   \n",
       "1036          [사진] 국내 첫 로봇 지휘자 “내 손을 보세요”   \n",
       "1037                 [사진] 파티에 제격, 포터블 스피커   \n",
       "\n",
       "                                                     본문          날짜     연  월  \\\n",
       "1035  달러 내면 매월 게임 메타 VR 기기 퀘스트 충성 고객 확대 겨냥 메타버스 대중화 ...  2023-06-27  2023  6   \n",
       "1036  국내 로봇 지휘자 요지 휘하 로봇 에버 오후 서울 중구 국립극장 오름 극장 다흐 빌...  2023-06-27  2023  6   \n",
       "1037  파티 제격 포터블 스피커 LG전자 내장 배터리 탑재 포터블 파티 스피커 LG 엑스 ...  2023-06-27  2023  6   \n",
       "\n",
       "       일  요일  \n",
       "1035  27   1  \n",
       "1036  27   1  \n",
       "1037  27   1  "
      ]
     },
     "metadata": {},
     "output_type": "display_data"
    }
   ],
   "source": [
    "# raw text와 processed text를 비교하기 위해 copy\n",
    "df_preprocess = df.copy()\n",
    "df_preprocess['본문'] = df_preprocess['본문'].str.upper() # 전부 대문자로 변경\n",
    "\n",
    "# twitter 객체에 Noun 단어 adding\n",
    "twitter = Twitter()\n",
    "\n",
    "# 사용자 정의 명사 지정 리스트 받기\n",
    "add_words = get_addwords()\n",
    "# 불용어 리스트 받기\n",
    "stop_words = get_stopwords()\n",
    "\n",
    "for noun in add_words:\n",
    "    twitter.add_dictionary(noun, 'Noun')\n",
    "\n",
    "# re와 ckonlpy로 전처리\n",
    "articles = df_preprocess['본문']\n",
    "\n",
    "# 본문 Seriese객체에서 index 받아오기\n",
    "# 기사의 건수(약 1400건)만큼 iter\n",
    "for idx in tqdm(range(len(articles))): \n",
    "    # re로 기본적인 전처리\n",
    "    text = articles[idx]\n",
    "    to_remove = '[\\n,@\\'()‘“”’%./■△\\\"·]+'\n",
    "    text = re.sub(to_remove, '', text)\n",
    "    \n",
    "    # ckonlpy로 ' '로 구분된 string형태의 corpus 생성\n",
    "    contents =''\n",
    "    for temp_word in twitter.nouns(text):\n",
    "        # 한글자와 불용어 제외\n",
    "        if (len(temp_word) > 1)&(temp_word not in stop_words):\n",
    "            contents = contents + ' ' + temp_word\n",
    "    \n",
    "    # 전처리를 거친 corpus를 df_preprocess의 본문에 저장\n",
    "    df_preprocess.loc[idx, '본문'] = contents.strip()\n",
    "\n",
    "######################################## Check result\n",
    "sleep(2)\n",
    "print(\"전처리 전 :\")\n",
    "print(\"*\"*50)\n",
    "display(df.head(3))\n",
    "display(df.tail(3))\n",
    "print('\\n\\n')\n",
    "print(\"전처리 후 :\")\n",
    "print(\"*\"*50)\n",
    "display(df_preprocess.head(3))\n",
    "display(df_preprocess.tail(3))\n",
    "########################################"
   ]
  },
  {
   "cell_type": "code",
   "execution_count": 5,
   "id": "92dc4d9e",
   "metadata": {
    "ExecuteTime": {
     "end_time": "2023-06-27T07:34:23.846947Z",
     "start_time": "2023-06-27T07:34:23.826459Z"
    }
   },
   "outputs": [
    {
     "data": {
      "text/plain": [
       "'거대 인공지능 AI 연구 개발 AI 반도체 인프라 온라인 전용 포털 클릭 번만 이용 KT 클라우드 토종 팹리스 반도체 설계 전문 아톰 적용 클라우드 기반 신경망 처리장치 인프라 상용 일부 개시 다리 아톰 적용 KT 인프라 KT 클라우드 AI 최적화 설계 AI 반도체 린다 그래픽 처리장치 GPU 대비 연산 속도 전력 소모 AI 연구개발 기간 비용 혁신 KT 클라우드 협력 글로벌 고성능 인정 아톰 탑재 클라우드 기반 인프라 상용 KT 클라우드 클라우드 기반 이용 플랫폼 적용 자원 공유 구성 관리 오토 프로비저닝 구현 전용 포털 간편 기반 AI 학습 추론 진행 클라우드 기반 인프라 클릭 고객 직접 자원 성하 연산 세션 활용 관리 모니터링 구축 인프라 대비 사용 의성 불어 고성능 전력 특성 필요 필요 만큼 이용 환경 AI 연구 기간 비용 혁신 KT 클라우드 인프라 AI 반도체 초기 수요 중소 벤처기업 대상 국산 AI 반도체 기반 컴퓨팅 자원 목적 클라우드 프로젝트 사업 AI 사업 고성능 컴퓨팅 사업 대상 먼저 올해 하반기 고객 대상 확대 계획 탑재 아톰 금융 거래 특화된 AI 반도체 아이온 보이 AI 반도체 국내 팹리스 개발 중인 세대 수준 성능 상태 아톰 트랜스포머 언어 모델 기계 번역 모델 부동 소수점 연산 유일 국산 AI 반도체 검증 대회 엠엘퍼프 결과 아톰 엔비디아 퀄컴 클라우드 AI 대비 상처리 언어 모델 AR 확인 최대 와트 전력 설계 삼성 나노 자외선 EU 공정 제조 업계 주로 사용 중인 GPU 교하면 모델 언어모델 전력 효율 전력 소모 기적 다리 아톰 성능 업그레이드 버전 준비 중이 KT 클라우드 인프라 고도화 이후 차기 모델 리벨 계획 박성현 인프라 대해 최근 엠엘퍼프 전과 언어 모델 모두 글로벌 티어 수준 역량 입증 아톰 KT 클라우드 데이터 센터 상용 자부심 토대 대한민국 AI 산업 활성화 기여 AI 반도체 리딩 KT 클라우드 향후 AR 클라우드 플랫폼 설계 구축 다양 AI 응용 AI 반도체 레퍼런스 확보 계획 다양 협력 비용 고성능 효율 AI 인프라 혁신 선도 국산 AI 반도체 SW 스택 클라우드 플랫폼 AI 응용 우르 AI 스택 성함 글로벌 진출 목표 윤동식 KT 클라우드 KT 클라우드 거대 AI 종량제 AI 인프라 하이퍼 스케일 AI 컴퓨팅 출시 AI 산업 문턱 국내 최초 클라우드 기반 인프라 상용 화로 AI 혁신 AI 인프라 혁신 AI 반도체 고도화 대한민국 거대 AI 산업 활성화 앞장'"
      ]
     },
     "execution_count": 5,
     "metadata": {},
     "output_type": "execute_result"
    }
   ],
   "source": [
    "articles = df_preprocess['본문'].tolist()\n",
    "articles[0]"
   ]
  },
  {
   "cell_type": "markdown",
   "id": "71091261",
   "metadata": {},
   "source": [
    "# 토픽 모델링 및 Topic Num 최적화"
   ]
  },
  {
   "cell_type": "markdown",
   "id": "ebf8d99d",
   "metadata": {
    "ExecuteTime": {
     "end_time": "2023-06-22T07:19:05.422244Z",
     "start_time": "2023-06-22T07:19:05.409160Z"
    }
   },
   "source": [
    "https://coredottoday.github.io/2018/09/17/%EB%AA%A8%EB%8D%B8-%ED%8C%8C%EB%9D%BC%EB%AF%B8%ED%84%B0-%ED%8A%9C%EB%8B%9D/"
   ]
  },
  {
   "cell_type": "code",
   "execution_count": 6,
   "id": "1d21e660",
   "metadata": {
    "ExecuteTime": {
     "end_time": "2023-06-27T07:34:23.879455Z",
     "start_time": "2023-06-27T07:34:23.848727Z"
    }
   },
   "outputs": [],
   "source": [
    "# 리스트 내 리스트 형태로 저장\n",
    "preprocessed_articles = [article.split(' ') for article in articles]"
   ]
  },
  {
   "cell_type": "code",
   "execution_count": 7,
   "id": "7aa05993",
   "metadata": {
    "ExecuteTime": {
     "end_time": "2023-06-27T07:34:24.327025Z",
     "start_time": "2023-06-27T07:34:23.882128Z"
    }
   },
   "outputs": [],
   "source": [
    "# corpora.Dictionary\n",
    "dictionary = corpora.Dictionary(preprocessed_articles)\n",
    "dictionary.filter_extremes(no_below=20, no_above=0.6)\n",
    "# 빈도수가 \n",
    "\n",
    "corpus = [dictionary.doc2bow(article) for article in preprocessed_articles]\n",
    "texts = [preprocessed_articles[idx] for idx in range(len(corpus))]"
   ]
  },
  {
   "cell_type": "markdown",
   "id": "5ba3d044",
   "metadata": {},
   "source": [
    "**하이퍼 파라미터 세팅**"
   ]
  },
  {
   "cell_type": "code",
   "execution_count": 8,
   "id": "0ed4a386",
   "metadata": {
    "ExecuteTime": {
     "end_time": "2023-06-27T07:34:24.342041Z",
     "start_time": "2023-06-27T07:34:24.330002Z"
    }
   },
   "outputs": [],
   "source": [
    "PARAM = {'RANGES':20,\n",
    "         'PASSES':20,\n",
    "         'ITER':500,\n",
    "         'COHERENCE_METRIC':'c_v',\n",
    "}"
   ]
  },
  {
   "cell_type": "code",
   "execution_count": null,
   "id": "3e385222",
   "metadata": {
    "ExecuteTime": {
     "start_time": "2023-06-27T07:33:42.906Z"
    }
   },
   "outputs": [
    {
     "name": "stderr",
     "output_type": "stream",
     "text": [
      "Operating All Topic Ranges:  78%|███████▊  | 14/18 [08:39<02:24, 36.13s/it]"
     ]
    }
   ],
   "source": [
    "# 2부터 20까지의 토픽 수를 비교하며 정합도 점수 기록\n",
    "news_coherence_scores = []\n",
    "\n",
    "for i in tqdm(range(3, PARAM['RANGES']+1), desc=\"Operating All Topic Ranges\"):\n",
    "    model = LdaModel(corpus=corpus, num_topics=i, id2word=dictionary, passes=PARAM['PASSES'], iterations=PARAM['ITER'])\n",
    "    coherence_model = CoherenceModel(model=model, texts=texts, corpus=corpus, dictionary=dictionary, coherence=PARAM['COHERENCE_METRIC'])\n",
    "    coherence_lda = coherence_model.get_coherence()\n",
    "    news_coherence_scores.append(coherence_lda)"
   ]
  },
  {
   "cell_type": "code",
   "execution_count": null,
   "id": "3e19b282",
   "metadata": {
    "ExecuteTime": {
     "start_time": "2023-06-27T07:33:42.908Z"
    }
   },
   "outputs": [],
   "source": [
    "k = [i for i in range(3, PARAM['RANGES']+1)]\n",
    "x = np.array(k)\n",
    "y = np.array(news_coherence_scores)\n",
    "plt.figure(figsize=(10, 5))\n",
    "plt.plot(x, y)\n",
    "plt.xlabel(\"Number Of Topic(2-\"+str(PARAM['RANGES'])+\")\")\n",
    "plt.ylabel('Coherence Score')\n",
    "plt.show()"
   ]
  },
  {
   "cell_type": "code",
   "execution_count": null,
   "id": "ef985b97",
   "metadata": {
    "ExecuteTime": {
     "start_time": "2023-06-27T07:33:42.910Z"
    }
   },
   "outputs": [],
   "source": [
    "news_coherence_scores"
   ]
  },
  {
   "cell_type": "markdown",
   "id": "5a34141b",
   "metadata": {},
   "source": [
    "# Topic Num이 최적화된 모델"
   ]
  },
  {
   "cell_type": "code",
   "execution_count": null,
   "id": "e07132d6",
   "metadata": {
    "ExecuteTime": {
     "start_time": "2023-06-27T07:33:42.913Z"
    }
   },
   "outputs": [],
   "source": [
    "find_best = np.array([news_coherence_scores])\n",
    "Best_Num_Of_Topic = int(np.where(y==find_best.max())[0][0]+3)\n",
    "print(\"최적의 토픽 수 :\", Best_Num_Of_Topic)\n",
    "print(\"정합도 점수 :\", round(find_best.max(), 4))"
   ]
  },
  {
   "cell_type": "code",
   "execution_count": null,
   "id": "66112956",
   "metadata": {
    "ExecuteTime": {
     "start_time": "2023-06-27T07:33:42.914Z"
    },
    "scrolled": false
   },
   "outputs": [],
   "source": [
    "num_topics = Best_Num_Of_Topic\n",
    "lda_model = LdaModel(corpus, num_topics, dictionary, passes=PARAM['PASSES'], iterations=PARAM['ITER'])\n",
    "\n",
    "coherence_model = CoherenceModel(model=lda_model, texts=texts, corpus=corpus, dictionary=dictionary)\n",
    "\n",
    "vis_data = gensimvis.prepare(lda_model, corpus, dictionary)\n",
    "pyLDAvis.display(vis_data)"
   ]
  },
  {
   "cell_type": "markdown",
   "id": "a4d851b8",
   "metadata": {},
   "source": [
    "# 각 토픽에 정합하는 기사 추출"
   ]
  },
  {
   "cell_type": "markdown",
   "id": "03008dcf",
   "metadata": {},
   "source": [
    "Note : preprocessed_articles 를 토큰화 한 것이 corpus"
   ]
  },
  {
   "cell_type": "code",
   "execution_count": null,
   "id": "3629b5fe",
   "metadata": {
    "ExecuteTime": {
     "start_time": "2023-06-27T07:33:42.916Z"
    }
   },
   "outputs": [],
   "source": [
    "# 단계 1 : 각 문서에 대한 주제 분포 가져오기\n",
    "document_topics = [lda_model.get_document_topics(doc) for doc in corpus]\n",
    "# document_topics # 1382개\n",
    "\n",
    "main_topic_list = []\n",
    "\n",
    "for article_idx, article in enumerate(document_topics):\n",
    "    max_score = 1e-8\n",
    "    max_topic_num = -1e-8\n",
    "    \n",
    "    # 한 기사안에서 토픽 : 점수\n",
    "    for topicnum, score in article:\n",
    "        if score > max_score:\n",
    "            max_score = score\n",
    "            max_topic_num = topicnum\n",
    "    #main_topic_list.append((str(max_topic_num+1)+'번토픽', max_score))\n",
    "    main_topic_list.append((int(max_topic_num)+1, max_score))"
   ]
  },
  {
   "cell_type": "code",
   "execution_count": null,
   "id": "a60a8172",
   "metadata": {
    "ExecuteTime": {
     "start_time": "2023-06-27T07:33:42.919Z"
    }
   },
   "outputs": [],
   "source": [
    "# 토픽과 점수 추가하여 df_merged로 합치기\n",
    "df_score = pd.DataFrame(main_topic_list, columns=['토픽', '점수'])\n",
    "df_merged = pd.concat([df_preprocess, df_score], axis=1)"
   ]
  },
  {
   "cell_type": "code",
   "execution_count": null,
   "id": "82176d18",
   "metadata": {
    "ExecuteTime": {
     "start_time": "2023-06-27T07:33:42.921Z"
    }
   },
   "outputs": [],
   "source": [
    "# 높은 점수 순서대로 정렬한 후, 토픽으로 group을 생성한 후, 상위 5개씩 추출\n",
    "df_merged = df_merged.sort_values('점수', ascending=False)\n",
    "df_result = df_merged.groupby('토픽').head(5)\n",
    "df_result = df_result.sort_values('토픽', ignore_index=True)"
   ]
  },
  {
   "cell_type": "code",
   "execution_count": null,
   "id": "e4d7f56a",
   "metadata": {
    "ExecuteTime": {
     "start_time": "2023-06-27T07:33:42.922Z"
    }
   },
   "outputs": [],
   "source": [
    "# 최종 기사 저장\n",
    "today = datetime.today().strftime(\"%y%m%d\")\n",
    "df_result.drop(columns=['본문']).to_csv('result_'+today+'.csv', header=False)"
   ]
  },
  {
   "cell_type": "code",
   "execution_count": null,
   "id": "30f72e30",
   "metadata": {
    "ExecuteTime": {
     "start_time": "2023-06-27T07:33:42.927Z"
    },
    "scrolled": true
   },
   "outputs": [],
   "source": [
    "# 최대 행 제한 해제\n",
    "pd.set_option('display.max_rows', None)\n",
    "# 최대 열 제한 해제\n",
    "pd.set_option('display.max_columns', None)\n",
    "\n",
    "# 결과 확인\n",
    "df_result"
   ]
  },
  {
   "cell_type": "markdown",
   "id": "0f050d6d",
   "metadata": {
    "ExecuteTime": {
     "end_time": "2023-06-26T10:24:01.610945Z",
     "start_time": "2023-06-26T10:24:01.588873Z"
    }
   },
   "source": [
    "# 토픽 당 워드클라우드"
   ]
  },
  {
   "cell_type": "code",
   "execution_count": null,
   "id": "ee9403cc",
   "metadata": {
    "ExecuteTime": {
     "start_time": "2023-06-27T07:33:42.933Z"
    },
    "scrolled": false
   },
   "outputs": [],
   "source": [
    "df_result"
   ]
  },
  {
   "cell_type": "code",
   "execution_count": null,
   "id": "6ce1e97e",
   "metadata": {
    "ExecuteTime": {
     "start_time": "2023-06-27T07:33:42.935Z"
    }
   },
   "outputs": [],
   "source": [
    "def create_wordcloud(df_result=df_result, topic_num=None, width=600, height=600, max_words=30):\n",
    "    mask = cv2.imread('./circle.png')\n",
    "    mask = cv2.cvtColor(mask, cv2.COLOR_BGR2GRAY)\n",
    "    mask = cv2.resize(mask, (width, height))\n",
    "    \n",
    "    text = ' '.join(df_result[df_result['토픽']==topic_num]['본문'])\n",
    "    wordcloud = WordCloud(font_path='C:/Windows/Fonts/malgun.ttf', width=width, height=height, max_words=max_words,\n",
    "                          background_color='white', collocations=False, prefer_horizontal=1, mask=mask).generate(text)\n",
    "    plt.figure(figsize=(width/100, height/100))\n",
    "    plt.imshow(wordcloud, interpolation='bilinear')\n",
    "    plt.axis('off')\n",
    "    plt.show()"
   ]
  },
  {
   "cell_type": "code",
   "execution_count": null,
   "id": "c3196d38",
   "metadata": {
    "ExecuteTime": {
     "start_time": "2023-06-27T07:33:42.937Z"
    }
   },
   "outputs": [],
   "source": [
    "create_wordcloud(topic_num=17)"
   ]
  },
  {
   "cell_type": "code",
   "execution_count": null,
   "id": "f6fe8168",
   "metadata": {},
   "outputs": [],
   "source": []
  }
 ],
 "metadata": {
  "kernelspec": {
   "display_name": "Python 3 (ipykernel)",
   "language": "python",
   "name": "python3"
  },
  "language_info": {
   "codemirror_mode": {
    "name": "ipython",
    "version": 3
   },
   "file_extension": ".py",
   "mimetype": "text/x-python",
   "name": "python",
   "nbconvert_exporter": "python",
   "pygments_lexer": "ipython3",
   "version": "3.10.9"
  },
  "toc": {
   "base_numbering": 1,
   "nav_menu": {},
   "number_sections": true,
   "sideBar": true,
   "skip_h1_title": false,
   "title_cell": "Table of Contents",
   "title_sidebar": "Contents",
   "toc_cell": false,
   "toc_position": {},
   "toc_section_display": true,
   "toc_window_display": false
  }
 },
 "nbformat": 4,
 "nbformat_minor": 5
}
