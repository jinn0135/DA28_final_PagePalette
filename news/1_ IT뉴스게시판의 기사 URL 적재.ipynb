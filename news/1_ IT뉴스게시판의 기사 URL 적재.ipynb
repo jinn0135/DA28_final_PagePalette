{
 "cells": [
  {
   "cell_type": "markdown",
   "id": "75d2f9dc",
   "metadata": {},
   "source": [
    "# Import"
   ]
  },
  {
   "cell_type": "code",
   "execution_count": 1,
   "id": "529a99f2",
   "metadata": {
    "ExecuteTime": {
     "end_time": "2023-06-27T04:11:52.399837Z",
     "start_time": "2023-06-27T04:11:51.493256Z"
    }
   },
   "outputs": [],
   "source": [
    "from time import sleep\n",
    "import requests\n",
    "import selenium\n",
    "from selenium import webdriver\n",
    "from bs4 import BeautifulSoup\n",
    "import pandas as pd\n",
    "import csv\n",
    "\n",
    "from news_utils import page_lists\n",
    "from news_crawling import get_urls"
   ]
  },
  {
   "cell_type": "markdown",
   "id": "ec9ba72f",
   "metadata": {},
   "source": [
    "# 마지막 페이지 설정"
   ]
  },
  {
   "cell_type": "code",
   "execution_count": 2,
   "id": "20720180",
   "metadata": {
    "ExecuteTime": {
     "end_time": "2023-06-27T04:11:54.623320Z",
     "start_time": "2023-06-27T04:11:52.951751Z"
    },
    "scrolled": false
   },
   "outputs": [
    {
     "name": "stdout",
     "output_type": "stream",
     "text": [
      "몇 페이지까지 URL을 가져오시겠습니까?30\n"
     ]
    },
    {
     "data": {
      "text/plain": [
       "['https://news.naver.com/main/main.naver?mode=LSD&mid=shm&sid1=105#&date=%2023:06:27&page=1',\n",
       " 'https://news.naver.com/main/main.naver?mode=LSD&mid=shm&sid1=105#&date=%2023:06:27&page=2',\n",
       " 'https://news.naver.com/main/main.naver?mode=LSD&mid=shm&sid1=105#&date=%2023:06:27&page=3',\n",
       " 'https://news.naver.com/main/main.naver?mode=LSD&mid=shm&sid1=105#&date=%2023:06:27&page=4',\n",
       " 'https://news.naver.com/main/main.naver?mode=LSD&mid=shm&sid1=105#&date=%2023:06:27&page=5']"
      ]
     },
     "metadata": {},
     "output_type": "display_data"
    },
    {
     "data": {
      "text/plain": [
       "['https://news.naver.com/main/main.naver?mode=LSD&mid=shm&sid1=105#&date=%2023:06:27&page=26',\n",
       " 'https://news.naver.com/main/main.naver?mode=LSD&mid=shm&sid1=105#&date=%2023:06:27&page=27',\n",
       " 'https://news.naver.com/main/main.naver?mode=LSD&mid=shm&sid1=105#&date=%2023:06:27&page=28',\n",
       " 'https://news.naver.com/main/main.naver?mode=LSD&mid=shm&sid1=105#&date=%2023:06:27&page=29',\n",
       " 'https://news.naver.com/main/main.naver?mode=LSD&mid=shm&sid1=105#&date=%2023:06:27&page=30']"
      ]
     },
     "metadata": {},
     "output_type": "display_data"
    }
   ],
   "source": [
    "endpage = int(input(\"몇 페이지까지 URL을 가져오시겠습니까?\"))\n",
    "pages = page_lists(endpage=endpage)\n",
    "\n",
    "display(pages[:5])\n",
    "display(pages[-5:])"
   ]
  },
  {
   "cell_type": "markdown",
   "id": "81d420bd",
   "metadata": {},
   "source": [
    "# URL 크롤링"
   ]
  },
  {
   "cell_type": "code",
   "execution_count": 3,
   "id": "308ca7d2",
   "metadata": {
    "ExecuteTime": {
     "end_time": "2023-06-27T04:12:26.853930Z",
     "start_time": "2023-06-27T04:11:55.385322Z"
    },
    "scrolled": true
   },
   "outputs": [
    {
     "name": "stdout",
     "output_type": "stream",
     "text": [
      "1번째 페이지 url 저장 성공\n",
      "36 개의 URL 저장 성공\n",
      "**************************************************\n",
      "2번째 페이지 url 저장 성공\n",
      "20 개의 URL 저장 성공\n",
      "**************************************************\n",
      "3번째 페이지 url 저장 성공\n",
      "20 개의 URL 저장 성공\n",
      "**************************************************\n",
      "4번째 페이지 url 저장 성공\n",
      "20 개의 URL 저장 성공\n",
      "**************************************************\n",
      "5번째 페이지 url 저장 성공\n",
      "20 개의 URL 저장 성공\n",
      "**************************************************\n",
      "6번째 페이지 url 저장 성공\n",
      "20 개의 URL 저장 성공\n",
      "**************************************************\n",
      "7번째 페이지 url 저장 성공\n",
      "20 개의 URL 저장 성공\n",
      "**************************************************\n",
      "8번째 페이지 url 저장 성공\n",
      "20 개의 URL 저장 성공\n",
      "**************************************************\n",
      "9번째 페이지 url 저장 성공\n",
      "20 개의 URL 저장 성공\n",
      "**************************************************\n",
      "10번째 페이지 url 저장 성공\n",
      "20 개의 URL 저장 성공\n",
      "**************************************************\n",
      "11번째 페이지 url 저장 성공\n",
      "20 개의 URL 저장 성공\n",
      "**************************************************\n",
      "12번째 페이지 url 저장 성공\n",
      "20 개의 URL 저장 성공\n",
      "**************************************************\n",
      "13번째 페이지 url 저장 성공\n",
      "20 개의 URL 저장 성공\n",
      "**************************************************\n",
      "14번째 페이지 url 저장 성공\n",
      "20 개의 URL 저장 성공\n",
      "**************************************************\n",
      "15번째 페이지 url 저장 성공\n",
      "20 개의 URL 저장 성공\n",
      "**************************************************\n",
      "16번째 페이지 url 저장 성공\n",
      "20 개의 URL 저장 성공\n",
      "**************************************************\n",
      "17번째 페이지 url 저장 성공\n",
      "20 개의 URL 저장 성공\n",
      "**************************************************\n",
      "18번째 페이지 url 저장 성공\n",
      "20 개의 URL 저장 성공\n",
      "**************************************************\n",
      "19번째 페이지 url 저장 성공\n",
      "20 개의 URL 저장 성공\n",
      "**************************************************\n",
      "20번째 페이지 url 저장 성공\n",
      "20 개의 URL 저장 성공\n",
      "**************************************************\n",
      "21번째 페이지 url 저장 성공\n",
      "20 개의 URL 저장 성공\n",
      "**************************************************\n",
      "22번째 페이지 url 저장 성공\n",
      "20 개의 URL 저장 성공\n",
      "**************************************************\n",
      "23번째 페이지 url 저장 성공\n",
      "20 개의 URL 저장 성공\n",
      "**************************************************\n",
      "24번째 페이지 url 저장 성공\n",
      "20 개의 URL 저장 성공\n",
      "**************************************************\n",
      "25번째 페이지 url 저장 성공\n",
      "20 개의 URL 저장 성공\n",
      "**************************************************\n",
      "26번째 페이지 url 저장 성공\n",
      "20 개의 URL 저장 성공\n",
      "**************************************************\n",
      "27번째 페이지 url 저장 성공\n",
      "20 개의 URL 저장 성공\n",
      "**************************************************\n",
      "28번째 페이지 url 저장 성공\n",
      "20 개의 URL 저장 성공\n",
      "**************************************************\n",
      "29번째 페이지 url 저장 성공\n",
      "20 개의 URL 저장 성공\n",
      "**************************************************\n",
      "30번째 페이지 url 저장 성공\n",
      "20 개의 URL 저장 성공\n",
      "**************************************************\n",
      "중복 제거 전 URL 수 : 616\n",
      "중복 제거 후 URL 수 : 614\n"
     ]
    },
    {
     "data": {
      "text/plain": [
       "['https://n.news.naver.com/mnews/article/277/0005278112?sid=105',\n",
       " 'https://n.news.naver.com/mnews/article/016/0002161187?sid=105',\n",
       " 'https://n.news.naver.com/mnews/article/018/0005517677?sid=105']"
      ]
     },
     "metadata": {},
     "output_type": "display_data"
    },
    {
     "data": {
      "text/plain": [
       "['https://n.news.naver.com/mnews/article/031/0000754177?sid=105',\n",
       " 'https://n.news.naver.com/mnews/article/056/0011510788?sid=105',\n",
       " 'https://n.news.naver.com/mnews/article/092/0002296457?sid=105',\n",
       " 'https://n.news.naver.com/mnews/article/018/0005515409?sid=105']"
      ]
     },
     "metadata": {},
     "output_type": "display_data"
    }
   ],
   "source": [
    "# get_urls함수에 게시판 링크를 입력해 각 뉴스의 URL 저장\n",
    "prepared_urls = get_urls(pages=pages, hidden_window=False, verbose=True)\n",
    "len(prepared_urls)\n",
    "\n",
    "display(prepared_urls[:3])\n",
    "display(prepared_urls[-4:])"
   ]
  },
  {
   "cell_type": "markdown",
   "id": "734466e1",
   "metadata": {},
   "source": [
    "# 결과로 저장된 Unique한 URL들을 csv파일로 저장"
   ]
  },
  {
   "cell_type": "code",
   "execution_count": 4,
   "id": "fc44a6a7",
   "metadata": {
    "ExecuteTime": {
     "end_time": "2023-06-27T04:12:32.115978Z",
     "start_time": "2023-06-27T04:12:29.280056Z"
    }
   },
   "outputs": [
    {
     "name": "stdout",
     "output_type": "stream",
     "text": [
      "YYMMDD형태로 입력해주세요230627\n",
      "<urls_230627.csv>으로 614건의 기사 저장 완료\n"
     ]
    }
   ],
   "source": [
    "# 파일 이름 설정\n",
    "# 날짜를 명확하게 하기 위해서 input으로 사용자로부터 input받아서 저장\n",
    "\n",
    "filename = 'urls_'+ input(\"YYMMDD형태로 입력해주세요\") +'.csv'\n",
    "num_urls = len(prepared_urls)\n",
    "\n",
    "with open(filename, 'w', newline='') as file:\n",
    "    writer = csv.writer(file)\n",
    "    writer.writerow(['URL'])  # 헤더 행 작성\n",
    "    for url in prepared_urls:\n",
    "        writer.writerow([url])\n",
    "    print(\"<{}>으로 {}건의 기사 저장 완료\".format(filename, num_urls))\n",
    "    "
   ]
  },
  {
   "cell_type": "code",
   "execution_count": null,
   "id": "1f0f5759",
   "metadata": {},
   "outputs": [],
   "source": []
  }
 ],
 "metadata": {
  "kernelspec": {
   "display_name": "Python 3 (ipykernel)",
   "language": "python",
   "name": "python3"
  },
  "language_info": {
   "codemirror_mode": {
    "name": "ipython",
    "version": 3
   },
   "file_extension": ".py",
   "mimetype": "text/x-python",
   "name": "python",
   "nbconvert_exporter": "python",
   "pygments_lexer": "ipython3",
   "version": "3.10.9"
  },
  "toc": {
   "base_numbering": 1,
   "nav_menu": {},
   "number_sections": true,
   "sideBar": true,
   "skip_h1_title": false,
   "title_cell": "Table of Contents",
   "title_sidebar": "Contents",
   "toc_cell": false,
   "toc_position": {},
   "toc_section_display": true,
   "toc_window_display": false
  }
 },
 "nbformat": 4,
 "nbformat_minor": 5
}
